{
  "cells": [
    {
      "cell_type": "markdown",
      "metadata": {
        "id": "view-in-github",
        "colab_type": "text"
      },
      "source": [
        "<a href=\"https://colab.research.google.com/github/marquinamaria/UCB_MDSv4_ML/blob/main/Proyecto%20Final/Proyecto_Final%20-%20NLP%20Attention%20is%20all%20you%20need/MDSv4_ML_PFinal_NLP_Attention_is_all_you_need.ipynb\" target=\"_parent\"><img src=\"https://colab.research.google.com/assets/colab-badge.svg\" alt=\"Open In Colab\"/></a>"
      ]
    },
    {
      "cell_type": "markdown",
      "source": [
        "# NLP con Transformers\n",
        "\n",
        "### Integrantes\n",
        "* Maria Ines Marquina Guevara\n",
        "\n",
        "## Descripcion del Problema\n",
        "\n",
        "Traduccion de texto en espaniol al ingles, usando la arquitectura propuesta en\n",
        "[Attention is all you need](https://arxiv.org/pdf/1706.03762.pdf) de Vaswani et al. (2017).\n"
      ],
      "metadata": {
        "id": "-5kWl3Tw-2i7"
      }
    },
    {
      "cell_type": "markdown",
      "source": [
        "## Setup e Importacion de Librerias"
      ],
      "metadata": {
        "id": "_cltkXXQ_3nb"
      }
    },
    {
      "cell_type": "code",
      "execution_count": 599,
      "metadata": {
        "colab": {
          "base_uri": "https://localhost:8080/"
        },
        "id": "FiD4XbuEc-qE",
        "outputId": "07dc2e16-35f8-45e9-d1b3-549495c6c3ab"
      },
      "outputs": [
        {
          "output_type": "stream",
          "name": "stdout",
          "text": [
            "Requirement already satisfied: nltk in /usr/local/lib/python3.10/dist-packages (3.8.1)\n",
            "Requirement already satisfied: gensim==4.2.0 in /usr/local/lib/python3.10/dist-packages (4.2.0)\n",
            "Requirement already satisfied: keras-nlp in /usr/local/lib/python3.10/dist-packages (0.6.2)\n",
            "Requirement already satisfied: keras-preprocessing in /usr/local/lib/python3.10/dist-packages (1.1.2)\n",
            "Requirement already satisfied: tensorflow-text>2.11 in /usr/local/lib/python3.10/dist-packages (2.13.0)\n",
            "Requirement already satisfied: numpy>=1.17.0 in /usr/local/lib/python3.10/dist-packages (from gensim==4.2.0) (1.23.5)\n",
            "Requirement already satisfied: scipy>=0.18.1 in /usr/local/lib/python3.10/dist-packages (from gensim==4.2.0) (1.11.2)\n",
            "Requirement already satisfied: smart-open>=1.8.1 in /usr/local/lib/python3.10/dist-packages (from gensim==4.2.0) (6.4.0)\n",
            "Requirement already satisfied: click in /usr/local/lib/python3.10/dist-packages (from nltk) (8.1.7)\n",
            "Requirement already satisfied: joblib in /usr/local/lib/python3.10/dist-packages (from nltk) (1.3.2)\n",
            "Requirement already satisfied: regex>=2021.8.3 in /usr/local/lib/python3.10/dist-packages (from nltk) (2023.6.3)\n",
            "Requirement already satisfied: tqdm in /usr/local/lib/python3.10/dist-packages (from nltk) (4.66.1)\n",
            "Requirement already satisfied: keras-core in /usr/local/lib/python3.10/dist-packages (from keras-nlp) (0.1.7)\n",
            "Requirement already satisfied: absl-py in /usr/local/lib/python3.10/dist-packages (from keras-nlp) (1.4.0)\n",
            "Requirement already satisfied: packaging in /usr/local/lib/python3.10/dist-packages (from keras-nlp) (23.1)\n",
            "Requirement already satisfied: rich in /usr/local/lib/python3.10/dist-packages (from keras-nlp) (13.5.2)\n",
            "Requirement already satisfied: dm-tree in /usr/local/lib/python3.10/dist-packages (from keras-nlp) (0.1.8)\n",
            "Requirement already satisfied: six>=1.9.0 in /usr/local/lib/python3.10/dist-packages (from keras-preprocessing) (1.16.0)\n",
            "Requirement already satisfied: tensorflow-hub>=0.8.0 in /usr/local/lib/python3.10/dist-packages (from tensorflow-text>2.11) (0.14.0)\n",
            "Requirement already satisfied: tensorflow<2.14,>=2.13.0 in /usr/local/lib/python3.10/dist-packages (from tensorflow-text>2.11) (2.13.0)\n",
            "Requirement already satisfied: astunparse>=1.6.0 in /usr/local/lib/python3.10/dist-packages (from tensorflow<2.14,>=2.13.0->tensorflow-text>2.11) (1.6.3)\n",
            "Requirement already satisfied: flatbuffers>=23.1.21 in /usr/local/lib/python3.10/dist-packages (from tensorflow<2.14,>=2.13.0->tensorflow-text>2.11) (23.5.26)\n",
            "Requirement already satisfied: gast<=0.4.0,>=0.2.1 in /usr/local/lib/python3.10/dist-packages (from tensorflow<2.14,>=2.13.0->tensorflow-text>2.11) (0.4.0)\n",
            "Requirement already satisfied: google-pasta>=0.1.1 in /usr/local/lib/python3.10/dist-packages (from tensorflow<2.14,>=2.13.0->tensorflow-text>2.11) (0.2.0)\n",
            "Requirement already satisfied: grpcio<2.0,>=1.24.3 in /usr/local/lib/python3.10/dist-packages (from tensorflow<2.14,>=2.13.0->tensorflow-text>2.11) (1.57.0)\n",
            "Requirement already satisfied: h5py>=2.9.0 in /usr/local/lib/python3.10/dist-packages (from tensorflow<2.14,>=2.13.0->tensorflow-text>2.11) (3.9.0)\n",
            "Requirement already satisfied: keras<2.14,>=2.13.1 in /usr/local/lib/python3.10/dist-packages (from tensorflow<2.14,>=2.13.0->tensorflow-text>2.11) (2.13.1)\n",
            "Requirement already satisfied: libclang>=13.0.0 in /usr/local/lib/python3.10/dist-packages (from tensorflow<2.14,>=2.13.0->tensorflow-text>2.11) (16.0.6)\n",
            "Requirement already satisfied: opt-einsum>=2.3.2 in /usr/local/lib/python3.10/dist-packages (from tensorflow<2.14,>=2.13.0->tensorflow-text>2.11) (3.3.0)\n",
            "Requirement already satisfied: protobuf!=4.21.0,!=4.21.1,!=4.21.2,!=4.21.3,!=4.21.4,!=4.21.5,<5.0.0dev,>=3.20.3 in /usr/local/lib/python3.10/dist-packages (from tensorflow<2.14,>=2.13.0->tensorflow-text>2.11) (3.20.3)\n",
            "Requirement already satisfied: setuptools in /usr/local/lib/python3.10/dist-packages (from tensorflow<2.14,>=2.13.0->tensorflow-text>2.11) (67.7.2)\n",
            "Requirement already satisfied: tensorboard<2.14,>=2.13 in /usr/local/lib/python3.10/dist-packages (from tensorflow<2.14,>=2.13.0->tensorflow-text>2.11) (2.13.0)\n",
            "Requirement already satisfied: tensorflow-estimator<2.14,>=2.13.0 in /usr/local/lib/python3.10/dist-packages (from tensorflow<2.14,>=2.13.0->tensorflow-text>2.11) (2.13.0)\n",
            "Requirement already satisfied: termcolor>=1.1.0 in /usr/local/lib/python3.10/dist-packages (from tensorflow<2.14,>=2.13.0->tensorflow-text>2.11) (2.3.0)\n",
            "Requirement already satisfied: typing-extensions<4.6.0,>=3.6.6 in /usr/local/lib/python3.10/dist-packages (from tensorflow<2.14,>=2.13.0->tensorflow-text>2.11) (4.5.0)\n",
            "Requirement already satisfied: wrapt>=1.11.0 in /usr/local/lib/python3.10/dist-packages (from tensorflow<2.14,>=2.13.0->tensorflow-text>2.11) (1.15.0)\n",
            "Requirement already satisfied: tensorflow-io-gcs-filesystem>=0.23.1 in /usr/local/lib/python3.10/dist-packages (from tensorflow<2.14,>=2.13.0->tensorflow-text>2.11) (0.33.0)\n",
            "Requirement already satisfied: namex in /usr/local/lib/python3.10/dist-packages (from keras-core->keras-nlp) (0.0.7)\n",
            "Requirement already satisfied: markdown-it-py>=2.2.0 in /usr/local/lib/python3.10/dist-packages (from rich->keras-nlp) (3.0.0)\n",
            "Requirement already satisfied: pygments<3.0.0,>=2.13.0 in /usr/local/lib/python3.10/dist-packages (from rich->keras-nlp) (2.16.1)\n",
            "Requirement already satisfied: wheel<1.0,>=0.23.0 in /usr/local/lib/python3.10/dist-packages (from astunparse>=1.6.0->tensorflow<2.14,>=2.13.0->tensorflow-text>2.11) (0.41.2)\n",
            "Requirement already satisfied: mdurl~=0.1 in /usr/local/lib/python3.10/dist-packages (from markdown-it-py>=2.2.0->rich->keras-nlp) (0.1.2)\n",
            "Requirement already satisfied: google-auth<3,>=1.6.3 in /usr/local/lib/python3.10/dist-packages (from tensorboard<2.14,>=2.13->tensorflow<2.14,>=2.13.0->tensorflow-text>2.11) (2.17.3)\n",
            "Requirement already satisfied: google-auth-oauthlib<1.1,>=0.5 in /usr/local/lib/python3.10/dist-packages (from tensorboard<2.14,>=2.13->tensorflow<2.14,>=2.13.0->tensorflow-text>2.11) (1.0.0)\n",
            "Requirement already satisfied: markdown>=2.6.8 in /usr/local/lib/python3.10/dist-packages (from tensorboard<2.14,>=2.13->tensorflow<2.14,>=2.13.0->tensorflow-text>2.11) (3.4.4)\n",
            "Requirement already satisfied: requests<3,>=2.21.0 in /usr/local/lib/python3.10/dist-packages (from tensorboard<2.14,>=2.13->tensorflow<2.14,>=2.13.0->tensorflow-text>2.11) (2.31.0)\n",
            "Requirement already satisfied: tensorboard-data-server<0.8.0,>=0.7.0 in /usr/local/lib/python3.10/dist-packages (from tensorboard<2.14,>=2.13->tensorflow<2.14,>=2.13.0->tensorflow-text>2.11) (0.7.1)\n",
            "Requirement already satisfied: werkzeug>=1.0.1 in /usr/local/lib/python3.10/dist-packages (from tensorboard<2.14,>=2.13->tensorflow<2.14,>=2.13.0->tensorflow-text>2.11) (2.3.7)\n",
            "Requirement already satisfied: cachetools<6.0,>=2.0.0 in /usr/local/lib/python3.10/dist-packages (from google-auth<3,>=1.6.3->tensorboard<2.14,>=2.13->tensorflow<2.14,>=2.13.0->tensorflow-text>2.11) (5.3.1)\n",
            "Requirement already satisfied: pyasn1-modules>=0.2.1 in /usr/local/lib/python3.10/dist-packages (from google-auth<3,>=1.6.3->tensorboard<2.14,>=2.13->tensorflow<2.14,>=2.13.0->tensorflow-text>2.11) (0.3.0)\n",
            "Requirement already satisfied: rsa<5,>=3.1.4 in /usr/local/lib/python3.10/dist-packages (from google-auth<3,>=1.6.3->tensorboard<2.14,>=2.13->tensorflow<2.14,>=2.13.0->tensorflow-text>2.11) (4.9)\n",
            "Requirement already satisfied: requests-oauthlib>=0.7.0 in /usr/local/lib/python3.10/dist-packages (from google-auth-oauthlib<1.1,>=0.5->tensorboard<2.14,>=2.13->tensorflow<2.14,>=2.13.0->tensorflow-text>2.11) (1.3.1)\n",
            "Requirement already satisfied: charset-normalizer<4,>=2 in /usr/local/lib/python3.10/dist-packages (from requests<3,>=2.21.0->tensorboard<2.14,>=2.13->tensorflow<2.14,>=2.13.0->tensorflow-text>2.11) (3.2.0)\n",
            "Requirement already satisfied: idna<4,>=2.5 in /usr/local/lib/python3.10/dist-packages (from requests<3,>=2.21.0->tensorboard<2.14,>=2.13->tensorflow<2.14,>=2.13.0->tensorflow-text>2.11) (3.4)\n",
            "Requirement already satisfied: urllib3<3,>=1.21.1 in /usr/local/lib/python3.10/dist-packages (from requests<3,>=2.21.0->tensorboard<2.14,>=2.13->tensorflow<2.14,>=2.13.0->tensorflow-text>2.11) (2.0.4)\n",
            "Requirement already satisfied: certifi>=2017.4.17 in /usr/local/lib/python3.10/dist-packages (from requests<3,>=2.21.0->tensorboard<2.14,>=2.13->tensorflow<2.14,>=2.13.0->tensorflow-text>2.11) (2023.7.22)\n",
            "Requirement already satisfied: MarkupSafe>=2.1.1 in /usr/local/lib/python3.10/dist-packages (from werkzeug>=1.0.1->tensorboard<2.14,>=2.13->tensorflow<2.14,>=2.13.0->tensorflow-text>2.11) (2.1.3)\n",
            "Requirement already satisfied: pyasn1<0.6.0,>=0.4.6 in /usr/local/lib/python3.10/dist-packages (from pyasn1-modules>=0.2.1->google-auth<3,>=1.6.3->tensorboard<2.14,>=2.13->tensorflow<2.14,>=2.13.0->tensorflow-text>2.11) (0.5.0)\n",
            "Requirement already satisfied: oauthlib>=3.0.0 in /usr/local/lib/python3.10/dist-packages (from requests-oauthlib>=0.7.0->google-auth-oauthlib<1.1,>=0.5->tensorboard<2.14,>=2.13->tensorflow<2.14,>=2.13.0->tensorflow-text>2.11) (3.2.2)\n"
          ]
        }
      ],
      "source": [
        "!pip install -U nltk 'gensim==4.2.0' 'keras-nlp' 'keras-preprocessing' 'tensorflow-text>2.11'"
      ]
    },
    {
      "cell_type": "code",
      "execution_count": 600,
      "metadata": {
        "id": "YuDObnj3dK82"
      },
      "outputs": [],
      "source": [
        "import multiprocessing\n",
        "import tensorflow as tf\n",
        "import sys\n",
        "\n",
        "import keras.backend as K\n",
        "from keras.models import Sequential\n",
        "from keras.layers import Dense, Embedding, Lambda, ELU, Conv1D, MaxPooling1D, Dropout\n",
        "from keras.preprocessing import sequence\n",
        "from keras.preprocessing.text import Tokenizer\n",
        "from sklearn.model_selection import train_test_split\n",
        "from keras import preprocessing\n",
        "from textblob import TextBlob, Word\n",
        "from keras_preprocessing.sequence import pad_sequences\n",
        "from keras.initializers import Constant\n",
        "from tensorflow.keras.layers.experimental import preprocessing\n",
        "from tensorflow.keras import Model, Input\n",
        "import tensorflow_text as tf_text\n",
        "import matplotlib.ticker as ticker\n",
        "import matplotlib.pyplot as plt\n",
        "import numpy as np\n",
        "import re\n",
        "import random\n",
        "import os\n",
        "import pandas as pd\n",
        "import gensim\n",
        "import warnings\n",
        "import nltk\n",
        "import time"
      ]
    },
    {
      "cell_type": "code",
      "execution_count": 601,
      "metadata": {
        "id": "rL067wm9emBt"
      },
      "outputs": [],
      "source": [
        "TRACE = False\n",
        "\n",
        "def set_seeds_and_trace():\n",
        "    os.environ['PYTHONHASHSEED'] = '0'\n",
        "    np.random.seed(42)\n",
        "    tf.random.set_seed(42)\n",
        "    random.seed(42)\n",
        "    if TRACE:\n",
        "        tf.debugging.set_log_device_placement(True)\n",
        "\n",
        "def set_session_with_multiple_gpus_and_cores():\n",
        "    cores = multiprocessing.cpu_count()\n",
        "    gpus = len(tf.config.list_physical_devices('GPU'))\n",
        "    config = tf.compat.v1.ConfigProto(device_count={'GPU': gpus, 'CPU': cores})\n",
        "    session = tf.compat.v1.Session(config=config)\n",
        "    tf.compat.v1.keras.backend.set_session(session)"
      ]
    },
    {
      "cell_type": "code",
      "execution_count": 602,
      "metadata": {
        "colab": {
          "base_uri": "https://localhost:8080/"
        },
        "id": "X0pfIVJngCdM",
        "outputId": "36d26af1-f567-47fb-f2b9-b75a55605390"
      },
      "outputs": [
        {
          "output_type": "stream",
          "name": "stderr",
          "text": [
            "[nltk_data] Downloading package punkt to /root/nltk_data...\n",
            "[nltk_data]   Package punkt is already up-to-date!\n"
          ]
        },
        {
          "output_type": "execute_result",
          "data": {
            "text/plain": [
              "True"
            ]
          },
          "metadata": {},
          "execution_count": 602
        }
      ],
      "source": [
        "set_seeds_and_trace()\n",
        "set_session_with_multiple_gpus_and_cores()\n",
        "warnings.filterwarnings('ignore')\n",
        "nltk.download('punkt')"
      ]
    },
    {
      "cell_type": "markdown",
      "metadata": {
        "id": "qpgB22Ylgoj1"
      },
      "source": [
        "## Las capas del Transformer"
      ]
    },
    {
      "cell_type": "markdown",
      "metadata": {
        "id": "FLnnXT8hg6Bh"
      },
      "source": [
        "### Positional Encoding\n",
        "\n",
        "Implementamos el algoritmo explicado en el paper *3.5 Positional Encoding*"
      ]
    },
    {
      "cell_type": "code",
      "execution_count": 603,
      "metadata": {
        "id": "Lz9w6vCSg5W9"
      },
      "outputs": [],
      "source": [
        "from tensorflow._api.v2.compat.v1 import newaxis\n",
        "\n",
        "def positional_encoding(length, depth):\n",
        "    depth = depth/2\n",
        "\n",
        "    positions = np.arange(length)[:, np.newaxis]\n",
        "    depths = np.arange(depth)[np.newaxis, :] / depth\n",
        "\n",
        "    angle_rates = 1 / (10000**depths)\n",
        "    angle_rads = positions * angle_rates\n",
        "\n",
        "    pos_encoding = np.concatenate([np.sin(angle_rads), np.cos(angle_rads)], axis=-1)\n",
        "    return tf.cast(pos_encoding, dtype=tf.float32)\n"
      ]
    },
    {
      "cell_type": "code",
      "execution_count": 604,
      "metadata": {
        "id": "iOhdoLkag4L7"
      },
      "outputs": [],
      "source": [
        "class PositionalEmbedding(tf.keras.layers.Layer):\n",
        "    def __init__(self, vocab_size, d_model):\n",
        "        super().__init__()\n",
        "        self.d_model = d_model\n",
        "        self.embedding = tf.keras.layers.Embedding(vocab_size, d_model, mask_zero=True)\n",
        "        self.pos_encoding = positional_encoding(length=2048, depth=d_model)\n",
        "\n",
        "    def compute_mask(self, *args, **kwargs):\n",
        "        return self.embedding.compute_mask(*args, **kwargs)\n",
        "\n",
        "    def call(self, x):\n",
        "        length = tf.shape(x)[1]\n",
        "        x = self.embedding(x)\n",
        "        x *= tf.math.sqrt(tf.cast(self.d_model, tf.float32))\n",
        "        x = x + self.pos_encoding[tf.newaxis, :length, :]\n",
        "        return x"
      ]
    },
    {
      "cell_type": "code",
      "execution_count": 605,
      "metadata": {
        "id": "k6l_zq2TkFls"
      },
      "outputs": [],
      "source": [
        "positional_embedding = PositionalEmbedding(5000, 100)"
      ]
    },
    {
      "cell_type": "markdown",
      "metadata": {
        "id": "zivfMSYlkkVr"
      },
      "source": [
        "Creamos un input de 3 sentencias y 26 palabras"
      ]
    },
    {
      "cell_type": "code",
      "execution_count": 606,
      "metadata": {
        "id": "qpXnYLZNkbmq"
      },
      "outputs": [],
      "source": [
        "input = tf.constant(np.random.randint(1, 5000, size=(3, 26)))"
      ]
    },
    {
      "cell_type": "code",
      "execution_count": 607,
      "metadata": {
        "colab": {
          "base_uri": "https://localhost:8080/"
        },
        "id": "wTDPs5N6komk",
        "outputId": "8d03d8cf-35dc-4d29-ca2d-11677faa13a5"
      },
      "outputs": [
        {
          "output_type": "execute_result",
          "data": {
            "text/plain": [
              "TensorShape([3, 26, 100])"
            ]
          },
          "metadata": {},
          "execution_count": 607
        }
      ],
      "source": [
        "response = positional_embedding(input)\n",
        "response.shape\n",
        "# 100 es el embedding dimension"
      ]
    },
    {
      "cell_type": "code",
      "execution_count": 608,
      "metadata": {
        "colab": {
          "base_uri": "https://localhost:8080/"
        },
        "id": "5oP8xelzlEF7",
        "outputId": "1bff0533-ec5a-47cb-d6ad-a6ba770bf247"
      },
      "outputs": [
        {
          "output_type": "execute_result",
          "data": {
            "text/plain": [
              "<tf.Tensor: shape=(3, 26), dtype=bool, numpy=\n",
              "array([[ True,  True,  True,  True,  True,  True,  True,  True,  True,\n",
              "         True,  True,  True,  True,  True,  True,  True,  True,  True,\n",
              "         True,  True,  True,  True,  True,  True,  True,  True],\n",
              "       [ True,  True,  True,  True,  True,  True,  True,  True,  True,\n",
              "         True,  True,  True,  True,  True,  True,  True,  True,  True,\n",
              "         True,  True,  True,  True,  True,  True,  True,  True],\n",
              "       [ True,  True,  True,  True,  True,  True,  True,  True,  True,\n",
              "         True,  True,  True,  True,  True,  True,  True,  True,  True,\n",
              "         True,  True,  True,  True,  True,  True,  True,  True]])>"
            ]
          },
          "metadata": {},
          "execution_count": 608
        }
      ],
      "source": [
        "response._keras_mask"
      ]
    },
    {
      "cell_type": "markdown",
      "source": [
        "### Self Attention Layer"
      ],
      "metadata": {
        "id": "mFsndZCVA3R1"
      }
    },
    {
      "cell_type": "code",
      "execution_count": 609,
      "metadata": {
        "id": "lUz-JlmKruf-"
      },
      "outputs": [],
      "source": [
        "class BaseAttention(tf.keras.layers.Layer):\n",
        "    def __init__(self, **kwargs):\n",
        "        super().__init__()\n",
        "        self.multi_head_attention = tf.keras.layers.MultiHeadAttention(**kwargs)\n",
        "        self.layer_normalization = tf.keras.layers.LayerNormalization()\n",
        "        self.add = tf.keras.layers.Add()"
      ]
    },
    {
      "cell_type": "code",
      "execution_count": 610,
      "metadata": {
        "id": "JA8cU8IzsYUx"
      },
      "outputs": [],
      "source": [
        "class GlobalSelfAttention(BaseAttention):\n",
        "    def call(self, x):\n",
        "        attention_output = self.multi_head_attention(\n",
        "            query = x,\n",
        "            value = x,\n",
        "            key = x\n",
        "        )\n",
        "        x = self.add([x, attention_output])\n",
        "        x = self.layer_normalization(x)\n",
        "        return x"
      ]
    },
    {
      "cell_type": "code",
      "execution_count": 611,
      "metadata": {
        "colab": {
          "base_uri": "https://localhost:8080/"
        },
        "id": "OuUTOQQQtGRE",
        "outputId": "e30df9ef-1a02-4d0f-e832-34efa8e7144b"
      },
      "outputs": [
        {
          "output_type": "execute_result",
          "data": {
            "text/plain": [
              "TensorShape([3, 6, 100])"
            ]
          },
          "metadata": {},
          "execution_count": 611
        }
      ],
      "source": [
        "embedding_dimension = 100\n",
        "vocabulary_size = 5000\n",
        "input = tf.constant(np.random.randint(1, vocabulary_size, size=(3, 6)))\n",
        "\n",
        "pos = PositionalEmbedding(vocabulary_size, embedding_dimension)\n",
        "gsa = GlobalSelfAttention(num_heads=3, key_dim=embedding_dimension)\n",
        "response = gsa(pos(input))\n",
        "response.shape"
      ]
    },
    {
      "cell_type": "markdown",
      "metadata": {
        "id": "rcDJdr7ut7dJ"
      },
      "source": [
        "### Cross Attention Layer\n",
        "\n",
        "Conecta el encoder con el decoder\n",
        "\n",
        "* **x** es el target\n",
        "* **context** es el valor que retorno el Encoder\n"
      ]
    },
    {
      "cell_type": "code",
      "execution_count": 612,
      "metadata": {
        "id": "vZx35B8IuCm9"
      },
      "outputs": [],
      "source": [
        "class CrossAttention(BaseAttention):\n",
        "    def call(self, x, context):\n",
        "        attention_output, attention_scores = self.multi_head_attention(\n",
        "            query = x,\n",
        "            value = context,\n",
        "            key = context,\n",
        "            return_attention_scores=True)\n",
        "\n",
        "        self.last_attention_scores = attention_scores\n",
        "        x = self.add([x, attention_output])\n",
        "        x = self.layer_normalization(x)\n",
        "        return x\n"
      ]
    },
    {
      "cell_type": "code",
      "execution_count": 613,
      "metadata": {
        "colab": {
          "base_uri": "https://localhost:8080/"
        },
        "id": "fo277_-sviWq",
        "outputId": "a938224e-cd28-4397-ed3c-17783e3ff40a"
      },
      "outputs": [
        {
          "output_type": "execute_result",
          "data": {
            "text/plain": [
              "TensorShape([3, 24, 512])"
            ]
          },
          "metadata": {},
          "execution_count": 613
        }
      ],
      "source": [
        "embedding_dimension_spanish = 100\n",
        "vocabulary_size_spanish = 5000\n",
        "\n",
        "embedding_dimension_english = 512\n",
        "vocabulary_size_english = 6000\n",
        "\n",
        "input_spanish = tf.constant(np.random.randint(1, vocabulary_size_spanish, size=(3, 26)))\n",
        "input_english = tf.constant(np.random.randint(1, vocabulary_size_english, size=(3, 24)))\n",
        "\n",
        "pos_spanish = PositionalEmbedding(vocabulary_size_spanish, embedding_dimension_spanish)\n",
        "pos_english = PositionalEmbedding(vocabulary_size_english, embedding_dimension_english)\n",
        "\n",
        "gsa = GlobalSelfAttention(num_heads=3, key_dim=embedding_dimension_spanish)\n",
        "cross = CrossAttention(num_heads=3, key_dim=embedding_dimension_english)\n",
        "\n",
        "context = gsa(pos_spanish(input_spanish))\n",
        "response = cross(pos_english(input_english), context=context)\n",
        "response.shape"
      ]
    },
    {
      "cell_type": "markdown",
      "metadata": {
        "id": "MBs4zW6HxhEC"
      },
      "source": [
        "### Multi Headed Attention Layer\n",
        "\n",
        "* **use_casual_mask** indica que no podemos ver hacia el futuro es decir la Nth palabra soslo puede ver N-1  palabras y no toda la oracion"
      ]
    },
    {
      "cell_type": "code",
      "execution_count": 614,
      "metadata": {
        "id": "dpdfs-FvxgPS"
      },
      "outputs": [],
      "source": [
        "class CausalSelfAttention(BaseAttention):\n",
        "    def call(self, x):\n",
        "        attention_output = self.multi_head_attention(\n",
        "            query=x,\n",
        "            value=x,\n",
        "            key=x,\n",
        "            use_causal_mask=True)\n",
        "        x = self.add([x, attention_output])\n",
        "        x = self.layer_normalization(x)\n",
        "        return x"
      ]
    },
    {
      "cell_type": "code",
      "execution_count": 615,
      "metadata": {
        "colab": {
          "base_uri": "https://localhost:8080/"
        },
        "id": "SYPLJ7k6ynR4",
        "outputId": "f926cfa9-8378-403c-a133-40c929598587"
      },
      "outputs": [
        {
          "output_type": "execute_result",
          "data": {
            "text/plain": [
              "TensorShape([3, 24, 100])"
            ]
          },
          "metadata": {},
          "execution_count": 615
        }
      ],
      "source": [
        "embedding_dimension_english = 512\n",
        "vocabulary_size_english = 6000\n",
        "\n",
        "input_english = tf.constant(np.random.randint(1, vocabulary_size_spanish, size=(3, 24)))\n",
        "pos_english = PositionalEmbedding(vocabulary_size_english, embedding_dimension_english)\n",
        "\n",
        "csa = CausalSelfAttention(num_heads=3, key_dim=embedding_dimension_english)\n",
        "response = csa(pos_spanish(input_english))\n",
        "response.shape"
      ]
    },
    {
      "cell_type": "markdown",
      "metadata": {
        "id": "sZwrMakBzoCX"
      },
      "source": [
        "### Feed Forward Network"
      ]
    },
    {
      "cell_type": "code",
      "execution_count": 616,
      "metadata": {
        "id": "c8XKhzwDznOH"
      },
      "outputs": [],
      "source": [
        "class FeedForward(tf.keras.layers.Layer):\n",
        "    def __init__(self, d_model, dff, dropout_rate=0.1):\n",
        "        super().__init__()\n",
        "        self.seq = tf.keras.Sequential([\n",
        "            tf.keras.layers.Dense(dff, activation='relu'),\n",
        "            tf.keras.layers.Dense(d_model),\n",
        "            tf.keras.layers.Dropout(dropout_rate)\n",
        "        ])\n",
        "        self.add = tf.keras.layers.Add()\n",
        "        self.layer_norm = tf.keras.layers.LayerNormalization()\n",
        "\n",
        "    def call(self, x):\n",
        "        x = self.add([x, self.seq(x)])\n",
        "        x = self.layer_norm(x)\n",
        "        return x\n"
      ]
    },
    {
      "cell_type": "markdown",
      "metadata": {
        "id": "BamfphM21rbc"
      },
      "source": [
        "### Encoder Layer\n",
        "\n",
        "La capa del **Encoder** contiene un stack de N capas, cada **EncoderLayer** contiene las siguientes capas: un **GlobalSelfttention** y un **FeedForward**"
      ]
    },
    {
      "cell_type": "code",
      "execution_count": 617,
      "metadata": {
        "id": "o4eSdXyM1qoV"
      },
      "outputs": [],
      "source": [
        "from keras.api._v1.keras.backend import dropout\n",
        "class EncoderLayer(tf.keras.layers.Layer):\n",
        "    def __init__(self, *, d_model, num_heads, dff, dropout_rate=0.1):\n",
        "        super().__init__()\n",
        "        self.self_attention = GlobalSelfAttention(\n",
        "            num_heads=num_heads,\n",
        "            key_dim=d_model,\n",
        "            dropout=dropout_rate\n",
        "        )\n",
        "        self.fnn = FeedForward(d_model, dff)\n",
        "\n",
        "    def call(self, x):\n",
        "        x = self.self_attention(x)\n",
        "        x = self.fnn(x)\n",
        "        return x"
      ]
    },
    {
      "cell_type": "code",
      "execution_count": 618,
      "metadata": {
        "colab": {
          "base_uri": "https://localhost:8080/"
        },
        "id": "sQwjTTJB3JPR",
        "outputId": "e630a768-0c68-443b-8b82-0bf19a36bbe0"
      },
      "outputs": [
        {
          "output_type": "execute_result",
          "data": {
            "text/plain": [
              "TensorShape([3, 26, 100])"
            ]
          },
          "metadata": {},
          "execution_count": 618
        }
      ],
      "source": [
        "embedding_dimession = 100\n",
        "vocabulary_size = 5000\n",
        "\n",
        "input = tf.constant(np.random.randint(1, vocabulary_size, size=(3, 26)))\n",
        "pos = PositionalEmbedding(vocabulary_size, embedding_dimension)\n",
        "sample_encoder_layer = EncoderLayer(d_model=embedding_dimension, num_heads=3, dff=1012)\n",
        "response = sample_encoder_layer(pos(input))\n",
        "response.shape"
      ]
    },
    {
      "cell_type": "markdown",
      "metadata": {
        "id": "6UDmmzIo4Msu"
      },
      "source": [
        "### El Encoder"
      ]
    },
    {
      "cell_type": "code",
      "execution_count": 619,
      "metadata": {
        "id": "XHoo99xk4P0u"
      },
      "outputs": [],
      "source": [
        "class Encoder(tf.keras.layers.Layer):\n",
        "    def __init__(self, *, num_layers, d_model, num_heads, dff, vocab_size, dropout_rate=0.1):\n",
        "        super().__init__()\n",
        "        self.d_model = d_model\n",
        "        self.num_layers = num_layers\n",
        "        self.pos_embedding = PositionalEmbedding(vocab_size=vocab_size, d_model=d_model)\n",
        "        self.enc_layers = [\n",
        "            EncoderLayer(d_model=d_model, num_heads=num_heads, dff=dff, dropout_rate=dropout_rate)\n",
        "        for _ in range(num_layers)]\n",
        "        self.dropout = tf.keras.layers.Dropout(dropout_rate)\n",
        "\n",
        "    def call(self, x):\n",
        "        x = self.pos_embedding(x)\n",
        "        x = self.dropout(x)\n",
        "        for i in range(self.num_layers):\n",
        "            x = self.enc_layers[i](x)\n",
        "        return x"
      ]
    },
    {
      "cell_type": "code",
      "execution_count": 620,
      "metadata": {
        "colab": {
          "base_uri": "https://localhost:8080/"
        },
        "id": "PgQL_-q950oe",
        "outputId": "33840c58-aa46-4a47-b8ff-2542f319fd30"
      },
      "outputs": [
        {
          "output_type": "execute_result",
          "data": {
            "text/plain": [
              "TensorShape([3, 24, 100])"
            ]
          },
          "metadata": {},
          "execution_count": 620
        }
      ],
      "source": [
        "embedding_dim = 100\n",
        "vocab_size = 5000\n",
        "input = tf.constant(np.random.randint(1, vocab_size, size=(3, 24)))\n",
        "\n",
        "sample_encoder = Encoder(num_layers=4,\n",
        "                         d_model=embedding_dim,\n",
        "                         num_heads=3,\n",
        "                         dff=512,\n",
        "                         vocab_size=vocab_size)\n",
        "response = sample_encoder(input)\n",
        "response.shape"
      ]
    },
    {
      "cell_type": "markdown",
      "metadata": {
        "id": "OxX3Svj969v7"
      },
      "source": [
        "### Decoder Layer"
      ]
    },
    {
      "cell_type": "code",
      "execution_count": 621,
      "metadata": {
        "id": "7dH3IBMZ6_m2"
      },
      "outputs": [],
      "source": [
        "class DecoderLayer(tf.keras.layers.Layer):\n",
        "    def __init__(self, *, d_model, num_heads, dff, dropout_rate=0.1):\n",
        "        super().__init__()\n",
        "        self.causal_self_attention = CausalSelfAttention(\n",
        "            num_heads=num_heads,\n",
        "            key_dim=d_model,\n",
        "            dropout=dropout_rate\n",
        "        )\n",
        "\n",
        "        self.cross_attention = CrossAttention(\n",
        "            num_heads=num_heads,\n",
        "            key_dim=d_model,\n",
        "            dropout=dropout_rate\n",
        "        )\n",
        "        self.ffn = FeedForward(d_model, dff)\n",
        "\n",
        "    def call(self, x, context):\n",
        "        x = self.causal_self_attention(x=x)\n",
        "        x = self.cross_attention(x=x, context=context)\n",
        "\n",
        "        self.last_attention_scores = self.cross_attention.last_attention_scores\n",
        "        x = self.ffn(x)\n",
        "        return x"
      ]
    },
    {
      "cell_type": "code",
      "execution_count": 622,
      "metadata": {
        "colab": {
          "base_uri": "https://localhost:8080/"
        },
        "id": "1zFA_Sbe8Y5s",
        "outputId": "1010f37e-7cc0-4d2f-f8cb-f109818895ec"
      },
      "outputs": [
        {
          "output_type": "execute_result",
          "data": {
            "text/plain": [
              "TensorShape([3, 24, 512])"
            ]
          },
          "metadata": {},
          "execution_count": 622
        }
      ],
      "source": [
        "embedding_dim_spanish = 100\n",
        "vocab_size_spanish = 5000\n",
        "\n",
        "embedding_dim_english = 512\n",
        "vocab_size_english = 6000\n",
        "\n",
        "input_spanish = tf.constant(np.random.randint(1, vocab_size_spanish, size=(3, 26)))\n",
        "input_english = tf.constant(np.random.randint(1, vocab_size_english, size=(3, 24)))\n",
        "\n",
        "pos_english = PositionalEmbedding(vocab_size_english, embedding_dim_english)\n",
        "\n",
        "encoder = Encoder(num_layers=2, d_model=embedding_dim_spanish, num_heads=3, dff=512, vocab_size=vocab_size_spanish)\n",
        "context = encoder(input_spanish)\n",
        "\n",
        "decoder_layer = DecoderLayer(d_model=embedding_dim_english, num_heads=3, dff=218, dropout_rate=0.2)\n",
        "response = decoder_layer(pos_english(input_english), context=context)\n",
        "response.shape"
      ]
    },
    {
      "cell_type": "markdown",
      "metadata": {
        "id": "nzJrgrp4-d9c"
      },
      "source": [
        "### El Decoder"
      ]
    },
    {
      "cell_type": "code",
      "execution_count": 623,
      "metadata": {
        "id": "GIttMgTu-fgz"
      },
      "outputs": [],
      "source": [
        "class Decoder(tf.keras.layers.Layer):\n",
        "    def __init__(self, *, num_layers, d_model, num_heads, dff, vocab_size, dropout_rate=0.1):\n",
        "        super(Decoder, self).__init__()\n",
        "        self.d_model = d_model\n",
        "        self.num_layers = num_layers\n",
        "        self.pos_embedding = PositionalEmbedding(vocab_size=vocab_size, d_model=d_model)\n",
        "        self.dropout = tf.keras.layers.Dropout(dropout_rate)\n",
        "        self.dec_layers = [\n",
        "            DecoderLayer(d_model=d_model, num_heads=num_heads, dff=dff, dropout_rate=dropout_rate)\n",
        "            for _ in range(num_layers)]\n",
        "        self.last_attention_scores = None\n",
        "\n",
        "    def call(self, x, context):\n",
        "        x = self.pos_embedding(x)\n",
        "        x = self.dropout(x)\n",
        "        for i in range(self.num_layers):\n",
        "            x = self.dec_layers[i](x, context)\n",
        "        self.last_attention_scores = self.dec_layers[-1].last_attention_scores\n",
        "        return x\n",
        "\n",
        "    # def get_initial_state(self, context):\n",
        "    #     batch_size = tf.shape(context)[0]\n",
        "    #     start_tokens = tf.fill([batch_size, 1], '[START]')\n",
        "    #     done = tf.zeros([batch_size, 1], dtype=tf.bool)\n",
        "    #     embedded = self.pos_embedding (start_tokens)\n",
        "    #     return start_tokens, done, self.pos_embedding(embedded)[0]\n",
        "\n",
        "    # def tokens_to_text(self, tokens):\n",
        "    #     words = self.id"
      ]
    },
    {
      "cell_type": "code",
      "execution_count": 624,
      "metadata": {
        "colab": {
          "base_uri": "https://localhost:8080/"
        },
        "id": "yi9VrSO-AVpU",
        "outputId": "db6b5147-a24a-4c4a-ffc8-cf62f6bcba1c"
      },
      "outputs": [
        {
          "output_type": "execute_result",
          "data": {
            "text/plain": [
              "TensorShape([3, 24, 512])"
            ]
          },
          "metadata": {},
          "execution_count": 624
        }
      ],
      "source": [
        "embedding_dim_spanish = 100\n",
        "vocab_size_spanish = 5000\n",
        "\n",
        "embedding_dim_english = 512\n",
        "vocab_size_english = 6000\n",
        "\n",
        "input_spanish = tf.constant(np.random.randint(1, vocab_size_spanish, size=(3, 26)))\n",
        "input_english = tf.constant(np.random.randint(1, vocab_size_english, size=(3, 24)))\n",
        "\n",
        "pos_english = PositionalEmbedding(vocab_size_english, embedding_dim_english)\n",
        "\n",
        "encoder = Encoder(num_layers=2, d_model=embedding_dim_spanish, num_heads=3, dff=512, vocab_size=vocab_size_spanish)\n",
        "context = encoder(input_spanish)\n",
        "\n",
        "decoder = Decoder(num_layers=3, d_model=embedding_dim_english, num_heads=5, dff=124, vocab_size=vocab_size_english)\n",
        "response = decoder(input_english, context=context)\n",
        "\n",
        "response.shape"
      ]
    },
    {
      "cell_type": "markdown",
      "metadata": {
        "id": "FNFqKxBNBA09"
      },
      "source": [
        "## El Transformer Model"
      ]
    },
    {
      "cell_type": "code",
      "execution_count": 625,
      "metadata": {
        "id": "JJ75HlW0BCuI"
      },
      "outputs": [],
      "source": [
        "class Transformer(tf.keras.Model):\n",
        "    def __init__(\n",
        "        self, *, num_layers, d_model, num_heads, dff, input_vocab_size, target_vocab_size, dropout_rate=0.1):\n",
        "        super().__init__()\n",
        "\n",
        "        self.encoder = Encoder(num_layers=num_layers,\n",
        "                               d_model=d_model,\n",
        "                               num_heads=num_heads,\n",
        "                               dff=dff,\n",
        "                               vocab_size=input_vocab_size,\n",
        "                               dropout_rate=dropout_rate)\n",
        "\n",
        "        self.decoder = Decoder(num_layers=num_layers,\n",
        "                               d_model=d_model,\n",
        "                               num_heads=num_heads,\n",
        "                               dff=dff,\n",
        "                               vocab_size=target_vocab_size,\n",
        "                               dropout_rate=dropout_rate)\n",
        "\n",
        "        self.final_layer = tf.keras.layers.Dense(target_vocab_size)\n",
        "\n",
        "    def call(self, inputs):\n",
        "        context, x = inputs\n",
        "        context = self.encoder(context)\n",
        "        x = self.decoder(x, context)\n",
        "\n",
        "        # Linear Layer output that has the final output and the attention weights\n",
        "        logits = self.final_layer(x)\n",
        "        return logits\n",
        "\n",
        "    # def translate(self, texts, *, max_length=50, temperature=0.0)\n",
        "    #     # process the input text\n",
        "    #     context = self.encoder.convert_input(texts)\n",
        "    #     batch_size = tf.shape(texts)[0]\n",
        "\n",
        "    #     # setup the loop inputs\n",
        "    #     tokens = []\n",
        "    #     attention_weights = []\n",
        "    #     next_token, done, state = self.decoder.get_initial_state(context)\n",
        "\n",
        "    #     for _ in range(max_length):\n",
        "    #         next_token, done, state = self.decoder.get_next_token(\n",
        "    #             context, next_token, done, state, temperature\n",
        "    #         )\n",
        "\n",
        "    #         tokens.append(next_token)\n",
        "    #         attention_weights.append(self.decoder.last_attention_weights)\n",
        "    #         if tf.executing_eagerly() and tf.reduce_all(done):\n",
        "    #             break\n",
        "\n",
        "    #     tokens = tf.concat(tokens, axis=-1)\n",
        "    #     self.last_attention_weights = tf.concat(attention_weights, axis=1)\n",
        "    #     result = self.decoder.tokens_to_text(tokens)\n",
        "    #     return result"
      ]
    },
    {
      "cell_type": "code",
      "execution_count": 626,
      "metadata": {
        "id": "DQQChMN7DDrv"
      },
      "outputs": [],
      "source": [
        "embedding_dim = 100\n",
        "vocab_size_spanish = 5000\n",
        "vocab_size_english = 6000\n",
        "\n",
        "num_layers = 4\n",
        "dff = 512 # dimension of the fully connected layer\n",
        "num_heads = 8\n",
        "dropout_rate = 0.1"
      ]
    },
    {
      "cell_type": "code",
      "execution_count": 627,
      "metadata": {
        "colab": {
          "base_uri": "https://localhost:8080/"
        },
        "id": "pfKQORAEXP4N",
        "outputId": "210b7ad4-14f5-41d0-d211-21599ff81c86"
      },
      "outputs": [
        {
          "output_type": "execute_result",
          "data": {
            "text/plain": [
              "<tf.Tensor: shape=(3, 26), dtype=int64, numpy=\n",
              "array([[2262, 2287, 4203, 2879, 4144, 3645, 4433, 2056, 4721, 1277, 2767,\n",
              "         303,  639,   56, 4822,  526, 4570, 4124, 2126, 3288,  365, 4622,\n",
              "        4979, 1647,  919, 2798],\n",
              "       [1532, 3346, 1907, 3087, 4581, 2076,  714, 1063, 1977, 1297,  126,\n",
              "        4633, 3597, 3284, 1604,   67,  233, 2157, 1170, 2159, 4207, 1494,\n",
              "        4719, 4008, 2473, 2661],\n",
              "       [2740, 1762, 3515, 1976, 2363,  877, 3813, 3449, 1313, 1461, 2710,\n",
              "        2325, 1734, 1606, 2564, 3422, 3518, 2398, 3736, 2871, 1161, 4855,\n",
              "         243, 2591, 1064, 4325]])>"
            ]
          },
          "metadata": {},
          "execution_count": 627
        }
      ],
      "source": [
        "input_spanish = tf.constant(np.random.randint(1, vocab_size_spanish, size=(3, 26)))\n",
        "input_spanish"
      ]
    },
    {
      "cell_type": "code",
      "execution_count": 628,
      "metadata": {
        "colab": {
          "base_uri": "https://localhost:8080/"
        },
        "id": "s1bxgKjDXRuS",
        "outputId": "416cd38b-69aa-44d8-ab24-44e45e2de28e"
      },
      "outputs": [
        {
          "output_type": "execute_result",
          "data": {
            "text/plain": [
              "<tf.Tensor: shape=(3, 24), dtype=int64, numpy=\n",
              "array([[2596,  920, 5343,    6,  468, 5852, 4171,    4, 5967,  646,  118,\n",
              "        2929, 5726, 2552, 5043, 5561, 4290,  847, 2763, 5512, 5555, 5765,\n",
              "        5530, 1142],\n",
              "       [1811,  724,  225, 4628, 4209, 4655, 2049, 4750, 4416, 1574, 1829,\n",
              "        1918, 4235, 2027, 3745,  902, 4786, 2040,   10,  261, 1674, 2220,\n",
              "        2061, 5288],\n",
              "       [3714, 1620,  321, 1343, 5733, 2377, 2833, 2825, 1995, 2959, 2039,\n",
              "        3491, 3678, 1119, 1605, 4028,  236, 1970, 4430, 1909,  376, 3531,\n",
              "        5257, 2636]])>"
            ]
          },
          "metadata": {},
          "execution_count": 628
        }
      ],
      "source": [
        "input_english = tf.constant(np.random.randint(1, vocab_size_english, size=(3, 24)))\n",
        "input_english"
      ]
    },
    {
      "cell_type": "code",
      "execution_count": 629,
      "metadata": {
        "colab": {
          "base_uri": "https://localhost:8080/"
        },
        "id": "9Pf3_LaoXZu6",
        "outputId": "681ef113-5171-434f-a9c3-97073d48edf0"
      },
      "outputs": [
        {
          "output_type": "execute_result",
          "data": {
            "text/plain": [
              "TensorShape([3, 24, 6000])"
            ]
          },
          "metadata": {},
          "execution_count": 629
        }
      ],
      "source": [
        "transformer = Transformer(\n",
        "    num_layers=num_layers,\n",
        "    d_model=embedding_dim,\n",
        "    num_heads=num_heads,\n",
        "    dff=dff,\n",
        "    input_vocab_size=vocab_size_spanish,\n",
        "    target_vocab_size=vocab_size_english,\n",
        "    dropout_rate=dropout_rate\n",
        ")\n",
        "\n",
        "response = transformer((input_spanish, input_english))\n",
        "response.shape"
      ]
    },
    {
      "cell_type": "code",
      "execution_count": 630,
      "metadata": {
        "colab": {
          "base_uri": "https://localhost:8080/"
        },
        "id": "4R6pv3mJEWtE",
        "outputId": "cea50484-9f58-486f-c6d9-b54508f63d62"
      },
      "outputs": [
        {
          "output_type": "stream",
          "name": "stdout",
          "text": [
            "Model: \"transformer_4\"\n",
            "_________________________________________________________________\n",
            " Layer (type)                Output Shape              Param #   \n",
            "=================================================================\n",
            " encoder_13 (Encoder)        multiple                  2203648   \n",
            "                                                                 \n",
            " decoder_7 (Decoder)         multiple                  3594448   \n",
            "                                                                 \n",
            " dense_162 (Dense)           multiple                  606000    \n",
            "                                                                 \n",
            "=================================================================\n",
            "Total params: 6404096 (24.43 MB)\n",
            "Trainable params: 6404096 (24.43 MB)\n",
            "Non-trainable params: 0 (0.00 Byte)\n",
            "_________________________________________________________________\n"
          ]
        }
      ],
      "source": [
        "transformer.summary()"
      ]
    },
    {
      "cell_type": "markdown",
      "metadata": {
        "id": "ImJ2daaDKMfZ"
      },
      "source": [
        "## Cargamos un dataset y entrenamos el Transformer"
      ]
    },
    {
      "cell_type": "code",
      "execution_count": 631,
      "metadata": {
        "id": "ivmfgrVcKxNF"
      },
      "outputs": [],
      "source": [
        "def load_data(path):\n",
        "    text = path.read_text(encoding='utf-8')\n",
        "    lines = text.splitlines()\n",
        "    pairs = [line.split('\\t') for line in lines]\n",
        "    context = np.array([context for _, context in pairs])\n",
        "    target = np.array([target for target, _ in pairs])\n",
        "    return target, context"
      ]
    },
    {
      "cell_type": "code",
      "execution_count": 632,
      "metadata": {
        "colab": {
          "base_uri": "https://localhost:8080/"
        },
        "id": "WoAjiGSSMEkF",
        "outputId": "e232d03b-3f1f-41f9-cf68-817b4a414e1c"
      },
      "outputs": [
        {
          "output_type": "stream",
          "name": "stdout",
          "text": [
            "Drive already mounted at /content/drive; to attempt to forcibly remount, call drive.mount(\"/content/drive\", force_remount=True).\n"
          ]
        }
      ],
      "source": [
        "from google.colab import drive\n",
        "drive.mount('/content/drive')"
      ]
    },
    {
      "cell_type": "code",
      "execution_count": 633,
      "metadata": {
        "id": "TOeHYLpILnoJ"
      },
      "outputs": [],
      "source": [
        "import pathlib\n",
        "path = pathlib.Path(\"/content/drive/My Drive/Colab Notebooks/P3_Proyecto/_data/spa.txt\")\n",
        "target_raw, context_raw = load_data(path)"
      ]
    },
    {
      "cell_type": "code",
      "execution_count": 634,
      "metadata": {
        "colab": {
          "base_uri": "https://localhost:8080/"
        },
        "id": "6V3v96ZUMdCR",
        "outputId": "c5ff0a6c-29fa-4f8d-fb6a-1fbe3135ebd8"
      },
      "outputs": [
        {
          "output_type": "stream",
          "name": "stdout",
          "text": [
            "Si quieres sonar como un hablante nativo, debes estar dispuesto a practicar diciendo la misma frase una y otra vez de la misma manera en que un músico de banjo practica el mismo fraseo una y otra vez hasta que lo puedan tocar correctamente y en el tiempo esperado.\n"
          ]
        }
      ],
      "source": [
        "print(context_raw[-1])"
      ]
    },
    {
      "cell_type": "code",
      "execution_count": 635,
      "metadata": {
        "colab": {
          "base_uri": "https://localhost:8080/"
        },
        "id": "5-sJYaaPMg2P",
        "outputId": "359c2983-9b33-423e-c949-65354f8a5b68"
      },
      "outputs": [
        {
          "output_type": "stream",
          "name": "stdout",
          "text": [
            "If you want to sound like a native speaker, you must be willing to practice saying the same sentence over and over in the same way that banjo players practice the same phrase over and over until they can play it correctly and at the desired tempo.\n"
          ]
        }
      ],
      "source": [
        "print(target_raw[-1])"
      ]
    },
    {
      "cell_type": "markdown",
      "metadata": {
        "id": "AX5VhDaSMpsv"
      },
      "source": [
        "### Construimos el tensorflow dataset"
      ]
    },
    {
      "cell_type": "code",
      "execution_count": 636,
      "metadata": {
        "id": "zh5hqZUpMnah"
      },
      "outputs": [],
      "source": [
        "buffer_size = len(context_raw)\n",
        "batch_size = 64\n",
        "\n",
        "is_train = np.random.uniform(size=(len(target_raw),)) < 0.8\n",
        "\n",
        "# training\n",
        "train_raw = (\n",
        "    tf.data.Dataset.from_tensor_slices((context_raw[is_train], target_raw[is_train]))\n",
        "    .shuffle(buffer_size)\n",
        "    .batch(batch_size)\n",
        ")\n",
        "\n",
        "# validation\n",
        "val_raw = (\n",
        "    tf.data.Dataset.from_tensor_slices((context_raw[~is_train], target_raw[~is_train]))\n",
        "    .shuffle(buffer_size)\n",
        "    .batch(batch_size)\n",
        ")"
      ]
    },
    {
      "cell_type": "markdown",
      "metadata": {
        "id": "MuF2KoiCxxBQ"
      },
      "source": [
        "Tomamos un ejemplar de **train_row** para explorar el **context** y el **target**"
      ]
    },
    {
      "cell_type": "code",
      "execution_count": 637,
      "metadata": {
        "colab": {
          "base_uri": "https://localhost:8080/"
        },
        "id": "aZ-55_aKNk5C",
        "outputId": "4ac8c403-6927-4098-8e49-fbabfbb36843"
      },
      "outputs": [
        {
          "output_type": "stream",
          "name": "stdout",
          "text": [
            "tf.Tensor(\n",
            "[b'\\xc2\\xbfPor qu\\xc3\\xa9 te pusiste de su lado y no del m\\xc3\\xado?'\n",
            " b'El aire es al hombre lo que el agua al pez.'\n",
            " b'\\xc2\\xa1No me asustes as\\xc3\\xad!'\n",
            " b'\\xc2\\xbfPor qu\\xc3\\xa9 no lo aceptas?'\n",
            " b'\\xc2\\xbfCu\\xc3\\xa1ntos buenos amigos tienes?'\n",
            " b'\\xc2\\xbfCu\\xc3\\xa1nto tendr\\xc3\\xa1s que esperar?'\n",
            " b'Eso te deber\\xc3\\xada hacer feliz.'\n",
            " b'Evita cruzar esta calle cuando llueve.'\n",
            " b'Cuando muera, quiero ser enterrado junto a ella.'\n",
            " b'Mi hermana es demasiado peque\\xc3\\xb1a para ir a la escuela.'\n",
            " b'Quedate tranquilo, no importa lo que ella dice.'\n",
            " b'Tom llam\\xc3\\xb3 a la puerta del cuarto de Mar\\xc3\\xada.'\n",
            " b'\\xc3\\x89l vive en el lujo.'\n",
            " b'Lo \\xc3\\xbaltimo que supe es que Tom se encontraba pescando en Canad\\xc3\\xa1.'\n",
            " b'Aquellos dicen que yo soy una vieja.'\n",
            " b'\\xc2\\xbfQu\\xc3\\xa9 dijo tu esposa?' b'Deja de disparar.'\n",
            " b'Aqu\\xc3\\xad est\\xc3\\xa1 tu perro.'\n",
            " b'Com\\xc3\\xad demasiado ayer y ahora me siento mal.'\n",
            " b'Quiero bailar con Mary.' b'Ellos se pusieron a trabajar de inmediato.'\n",
            " b'\\xc3\\x89l es un peligro para la sociedad.'\n",
            " b'Puede que parezca una locura, pero creo que todav\\xc3\\xada estoy enamorado de Mary.'\n",
            " b'Solo la muerte cura todas las heridas.'\n",
            " b'Ni siquiera s\\xc3\\xa9 cu\\xc3\\xa1l es el apellido de Tom.'\n",
            " b'No temo nada.' b'Quiero que seas mi compa\\xc3\\xb1ero.'\n",
            " b'\"\\xc2\\xbfDejar\\xc3\\xa1 de llover pronto?\" \"Me temo que no.\"'\n",
            " b'Prueben este vino a ver si les gusta.'\n",
            " b'Tom asumi\\xc3\\xb3 que Mary sab\\xc3\\xada por qu\\xc3\\xa9 John estaba en el hospital.'\n",
            " b'\\xc3\\x89l invirti\\xc3\\xb3 su dinero en acciones.' b'No fume demasiado.'\n",
            " b'\\xc3\\x89l estaba atrapado en un empleo sin futuro.'\n",
            " b'Solo una persona fue lastimada.'\n",
            " b'Dale el recado cuando \\xc3\\xa9l vuelva.' b'\\xc2\\xbfNos vamos de paseo?'\n",
            " b'\\xc2\\xbfQu\\xc3\\xa9 me pod\\xc3\\xa9is ense\\xc3\\xb1ar?'\n",
            " b'Mary es fiel a su pa\\xc3\\xads.' b'Tom es mucho mayor que Mary.'\n",
            " b'\\xc2\\xbfCu\\xc3\\xa1nto tarda llegar de aqu\\xc3\\xad hasta all\\xc3\\xa1?'\n",
            " b'Su discurso me aburri\\xc3\\xb3.' b'No recuerdo nada de ayer a la noche.'\n",
            " b'Esperaron.' b'\\xc3\\x89sta es la que prefiero.'\n",
            " b'Ayer hac\\xc3\\xada m\\xc3\\xa1s fr\\xc3\\xado que hoy.'\n",
            " b'Creo que es muy poco probable que Tom vaya a nadar.'\n",
            " b'El petr\\xc3\\xb3leo es escaso en este pa\\xc3\\xads.'\n",
            " b'Me qued\\xc3\\xa9 con el billete de 20$ que encontr\\xc3\\xa9 en la calle.'\n",
            " b'Tom empez\\xc3\\xb3 a bailar.' b'\\xc2\\xbfQueda algo de az\\xc3\\xbacar?'\n",
            " b'\\xc2\\xbfA qu\\xc3\\xa9 hora fuiste a dormir ayer?'\n",
            " b'Tom no tuvo el valor para rehusarse a hacer lo que Mary le pidi\\xc3\\xb3 que hiciera.'\n",
            " b'Buen tiquismiquis est\\xc3\\xa1s hecho.'\n",
            " b'Cuanto m\\xc3\\xa1s mires, m\\xc3\\xa1s ver\\xc3\\xa1s, y m\\xc3\\xa1s interesantes se volver\\xc3\\xa1n.'\n",
            " b'\\xc2\\xbfMe quer\\xc3\\xadas?'\n",
            " b'Aqu\\xc3\\xad el tiempo es fr\\xc3\\xado todo el a\\xc3\\xb1o.'\n",
            " b'Los ni\\xc3\\xb1os deber\\xc3\\xadan jugar fuera.' b'Han venido todos.'\n",
            " b'Me ha fallado uno de mis mejores amigos.'\n",
            " b'Un perro le mordi\\xc3\\xb3 la pierna.'\n",
            " b'Tom a veces se queda dormido en clases.'\n",
            " b'Mi esposa se est\\xc3\\xa1 cansando de la rutina diaria.'\n",
            " b'Ellos huelen mal.' b'Mi padre a menudo lava los platos.'], shape=(64,), dtype=string)\n",
            "\n",
            "tf.Tensor(\n",
            "[b'Why did you side with him instead of me?'\n",
            " b'Air is to men what water is to fish.' b\"Don't scare me like that!\"\n",
            " b\"Why don't you accept that?\" b'How many close friends do you have?'\n",
            " b'How long will you have to wait?' b'That should make you happy.'\n",
            " b'Avoid crossing this street when it is raining.'\n",
            " b'When I die, I want to be buried next to her.'\n",
            " b'My sister is too young to go to school.'\n",
            " b'Stay calm no matter what she says.'\n",
            " b\"Tom knocked on the door to Mary's room.\" b'He lives in luxury.'\n",
            " b'The last I heard, Tom was fishing up in Canada.'\n",
            " b\"They say that I'm an old woman.\" b'What did your wife say?'\n",
            " b'Stop shooting.' b'Your dog is here.'\n",
            " b'Yesterday I ate too much and now I feel sick.'\n",
            " b'I want to dance with Mary.' b'They set to work at once.'\n",
            " b'He is a danger to society.'\n",
            " b\"It might sound crazy, but I think I'm still in love with Mary.\"\n",
            " b'Only death cures all pain.'\n",
            " b\"I don't even know what Tom's last name is.\" b'I fear nothing.'\n",
            " b'I want you to be my partner.'\n",
            " b'\"Will it stop raining soon?\" \"I\\'m afraid not.\"'\n",
            " b'Taste this wine to see if you like it.'\n",
            " b'Tom assumed that Mary knew why John was in the hospital.'\n",
            " b'He invested his money in stocks.' b\"Don't smoke too much.\"\n",
            " b'He was trapped in a dead-end job.' b'Only one person was injured.'\n",
            " b'Give him the message when he comes back.' b'Are we going for a walk?'\n",
            " b'What can you teach me?' b'Mary is loyal to her country.'\n",
            " b'Tom is much older than Mary.'\n",
            " b'How long does it take to get there from here?' b'His speech bored me.'\n",
            " b\"I can't remember anything from last night.\" b'They waited.'\n",
            " b'This is the one I prefer.' b'It was colder yesterday than today.'\n",
            " b\"I think it's highly unlikely that Tom will swim.\"\n",
            " b'Oil is scarce in this country.'\n",
            " b'I kept the $20 I found in the street.' b'Tom started dancing.'\n",
            " b'Is there still any sugar?' b'What time did you go to sleep yesterday?'\n",
            " b\"Tom didn't have the courage to refuse to do what Mary asked him to do.\"\n",
            " b\"You're picky, aren't you?\"\n",
            " b'The more you look, the more you will see, and the more interesting they will become.'\n",
            " b'Did you love me?' b'The weather is cold all year here.'\n",
            " b'Children should play outside.' b'They all have come.'\n",
            " b'One of my best friends has failed me.' b'A dog bit her leg.'\n",
            " b'Tom sometimes falls asleep in class.'\n",
            " b'My wife is getting tired of the daily routine.' b'They smell bad.'\n",
            " b'My father often washes the dishes.'], shape=(64,), dtype=string)\n"
          ]
        }
      ],
      "source": [
        "for example_context_strings, example_target_strings in train_raw.take(1):\n",
        "    print(example_context_strings)\n",
        "    print()\n",
        "    print(example_target_strings)\n",
        "    break"
      ]
    },
    {
      "cell_type": "markdown",
      "metadata": {
        "id": "ejposkvpN2ou"
      },
      "source": [
        "### Text processing\n",
        "\n",
        "Necesitamos procesar el text para remover caracteres con acentos, espacios en blanco, etc"
      ]
    },
    {
      "cell_type": "code",
      "source": [
        "example_text = tf.constant('Tendré que revisar mi agenda.')\n",
        "print(example_text.numpy())\n",
        "print(tf_text.normalize_utf8(example_text, 'NFKD').numpy())"
      ],
      "metadata": {
        "colab": {
          "base_uri": "https://localhost:8080/"
        },
        "id": "v2vI0aDC0wLJ",
        "outputId": "2d38becd-8b83-4057-8a83-7afc618e3d93"
      },
      "execution_count": 638,
      "outputs": [
        {
          "output_type": "stream",
          "name": "stdout",
          "text": [
            "b'Tendr\\xc3\\xa9 que revisar mi agenda.'\n",
            "b'Tendre\\xcc\\x81 que revisar mi agenda.'\n"
          ]
        }
      ]
    },
    {
      "cell_type": "code",
      "execution_count": 639,
      "metadata": {
        "id": "wHSxKWPNN1KU"
      },
      "outputs": [],
      "source": [
        "def process_with_tf_strings(text):\n",
        "    text = tf_text.normalize_utf8(text, 'NFKD')\n",
        "    text = tf.strings.lower(text)\n",
        "    text = tf.strings.regex_replace(text, '[^ a-z.?!,¿]', '')\n",
        "    text = tf.strings.regex_replace(text, '[.?!,¿]', r' \\0 ')\n",
        "    text = tf.strings.strip(text)\n",
        "    text = tf.strings.join(['[START]', text, '[END]'], separator=' ')\n",
        "    return  text"
      ]
    },
    {
      "cell_type": "code",
      "source": [
        "print(example_text.numpy().decode())\n",
        "print(process_with_tf_strings(example_text).numpy().decode())"
      ],
      "metadata": {
        "colab": {
          "base_uri": "https://localhost:8080/"
        },
        "id": "ZMEHk7JH3WXB",
        "outputId": "b73b65dc-4dec-424c-c95d-18ab1561c432"
      },
      "execution_count": 640,
      "outputs": [
        {
          "output_type": "stream",
          "name": "stdout",
          "text": [
            "Tendré que revisar mi agenda.\n",
            "[START] tendre que revisar mi agenda . [END]\n"
          ]
        }
      ]
    },
    {
      "cell_type": "markdown",
      "metadata": {
        "id": "UaD9SpnYQFl_"
      },
      "source": [
        "### Text Vectorization\n",
        "\n",
        "Pasamos de Natural Language a Ids"
      ]
    },
    {
      "cell_type": "code",
      "execution_count": 641,
      "metadata": {
        "id": "Os4vN5DdQEnU"
      },
      "outputs": [],
      "source": [
        "max_vocab_size = 50000\n",
        "context_text_processor = tf.keras.layers.TextVectorization(\n",
        "    standardize=process_with_tf_strings,\n",
        "    max_tokens=max_vocab_size,\n",
        "    ragged=True\n",
        ")"
      ]
    },
    {
      "cell_type": "code",
      "execution_count": 642,
      "metadata": {
        "id": "3ZM1F-KlQjjj"
      },
      "outputs": [],
      "source": [
        "context_text_processor.adapt(train_raw.map(lambda context, target: context))"
      ]
    },
    {
      "cell_type": "code",
      "execution_count": 643,
      "metadata": {
        "colab": {
          "base_uri": "https://localhost:8080/"
        },
        "id": "IA_yaYb-RUiR",
        "outputId": "70855d47-8639-43d5-e9b2-dc0206fa6901"
      },
      "outputs": [
        {
          "output_type": "execute_result",
          "data": {
            "text/plain": [
              "['', '[UNK]', '[START]', '[END]', '.', 'que', 'de', 'el', 'a', 'no']"
            ]
          },
          "metadata": {},
          "execution_count": 643
        }
      ],
      "source": [
        "context_text_processor.get_vocabulary()[:10]"
      ]
    },
    {
      "cell_type": "markdown",
      "metadata": {
        "id": "BVRkE1LCRzNO"
      },
      "source": [
        "Hacemos el mismo procedimiento con los **targets**"
      ]
    },
    {
      "cell_type": "code",
      "execution_count": 644,
      "metadata": {
        "colab": {
          "base_uri": "https://localhost:8080/"
        },
        "id": "DRxqMRb2RhWU",
        "outputId": "72471ddb-8cd9-4baf-db26-93b9fdbde85e"
      },
      "outputs": [
        {
          "output_type": "execute_result",
          "data": {
            "text/plain": [
              "['', '[UNK]', '[START]', '[END]', '.', 'the', 'i', 'to', 'you', 'tom']"
            ]
          },
          "metadata": {},
          "execution_count": 644
        }
      ],
      "source": [
        "target_text_processor = tf.keras.layers.TextVectorization(\n",
        "    standardize=process_with_tf_strings,\n",
        "    max_tokens=max_vocab_size,\n",
        "    ragged=True\n",
        ")\n",
        "\n",
        "target_text_processor.adapt(train_raw.map(lambda context, target: target))\n",
        "target_text_processor.get_vocabulary()[:10]"
      ]
    },
    {
      "cell_type": "code",
      "execution_count": 645,
      "metadata": {
        "colab": {
          "base_uri": "https://localhost:8080/"
        },
        "id": "q5e6rURkSGDb",
        "outputId": "00fd228d-6e6a-4485-8baf-7d00ecc44c3a"
      },
      "outputs": [
        {
          "output_type": "execute_result",
          "data": {
            "text/plain": [
              "<tf.RaggedTensor [[2, 13, 21, 5, 30, 3382, 6, 25, 368, 33, 9, 46, 486, 12, 3],\n",
              " [2, 7, 752, 15, 37, 144, 22, 5, 7, 209, 37, 1811, 4, 3],\n",
              " [2, 9, 18, 12752, 162, 83, 3]]>"
            ]
          },
          "metadata": {},
          "execution_count": 645
        }
      ],
      "source": [
        "example_tokens = context_text_processor(example_context_strings)\n",
        "example_tokens[:3, :]"
      ]
    },
    {
      "cell_type": "code",
      "execution_count": 646,
      "metadata": {
        "colab": {
          "base_uri": "https://localhost:8080/",
          "height": 447
        },
        "id": "iaciuktjSYMi",
        "outputId": "962f325d-3863-4f88-9127-2d536d6701a9"
      },
      "outputs": [
        {
          "output_type": "execute_result",
          "data": {
            "text/plain": [
              "<matplotlib.collections.QuadMesh at 0x7d18dcd00b20>"
            ]
          },
          "metadata": {},
          "execution_count": 646
        },
        {
          "output_type": "display_data",
          "data": {
            "text/plain": [
              "<Figure size 640x480 with 1 Axes>"
            ],
            "image/png": "[encoded data removed]"
          },
          "metadata": {}
        }
      ],
      "source": [
        "plt.pcolormesh(example_tokens.to_tensor())"
      ]
    },
    {
      "cell_type": "markdown",
      "metadata": {
        "id": "9iG1BCspSrK6"
      },
      "source": [
        "### Procesamos el dataset\n",
        "\n",
        "keras espera pares de la forma (inputs, labels). Los inputs son el (context, target_in) y los labels son el target_out. La diferencia entre target_in y target_out es que estan desplazados por un paso relativo al otro de forma que cada ubicacion del label es el siguiente token"
      ]
    },
    {
      "cell_type": "code",
      "execution_count": 647,
      "metadata": {
        "id": "ZfuTwuNCTmlt"
      },
      "outputs": [],
      "source": [
        "def process_text(context, target):\n",
        "    context = context_text_processor(context).to_tensor()\n",
        "    target = target_text_processor(target)\n",
        "    target_in = target[:, :-1].to_tensor()\n",
        "    target_out = target[:, 1:].to_tensor()\n",
        "    return (context, target_in), target_out"
      ]
    },
    {
      "cell_type": "code",
      "execution_count": 648,
      "metadata": {
        "id": "zf-1a2a7UX88"
      },
      "outputs": [],
      "source": [
        "train_dataset = train_raw.map(process_text, tf.data.AUTOTUNE)\n",
        "validation_dataset = val_raw.map(process_text, tf.data.AUTOTUNE)"
      ]
    },
    {
      "cell_type": "code",
      "execution_count": 649,
      "metadata": {
        "colab": {
          "base_uri": "https://localhost:8080/"
        },
        "id": "KLl8WcsTUrow",
        "outputId": "25b109a6-4ec3-4df4-8822-11872d5c5104"
      },
      "outputs": [
        {
          "output_type": "stream",
          "name": "stdout",
          "text": [
            "[[    2    13    72   452     7  2077    12     3     0     0]\n",
            " [    2    49   389 20890    33   500  1004     4     3     0]\n",
            " [    2    39  1079    56     7    84     4     3     0     0]\n",
            " [    2     7   150  1748    16   108     6   209    33    17]\n",
            " [    2    48   382    23   210  2250     4     3     0     0]\n",
            " [    2    57    15  2442     4     3     0     0     0     0]\n",
            " [    2   668   125   864     4     3     0     0     0     0]\n",
            " [    2    24   697    18   531    37   517     4     3     0]\n",
            " [    2   395    16   208   218     5   344     4     3     0]\n",
            " [    2    92    17   452     4     3     0     0     0     0]\n",
            " [    2   169  6705     8    34  3620     6    11  2415     4]\n",
            " [    2    10     9   250  6359    46    56    11  1679     6]\n",
            " [    2   712     5  8917     7   598   145     5    39  1409]\n",
            " [    2     9    49     8   112     5  2273  1074     8    24]\n",
            " [    2    10    20    14    25   463    19   248    23  1547]\n",
            " [    2    67 16751   811     4     3     0     0     0     0]\n",
            " [    2    25   322   394    29 22043    16  1252     6    11]\n",
            " [    2     9    17   442     4     3     0     0     0     0]\n",
            " [    2    88     5    30   115     8  4157    57     4     3]\n",
            " [    2    10    44    77    94    14     7   621     4     3]\n",
            " [    2   342   237  3937    23  1391     6    59   339  1371]\n",
            " [    2    92  2845     7  1533    37   122     4     3     0]\n",
            " [    2    48    36  1711     4     3     0     0     0     0]\n",
            " [    2 13144 16350    17  2088    14     4     3     0     0]\n",
            " [    2    89    17  5743    34   540     4     3     0     0]\n",
            " [    2   838   244   180     6     5    18   582   856    24]\n",
            " [    2    11  9343    15     7   987  2279     6    34  2321]\n",
            " [    2     9    49    56     7   102     4     3     0     0]\n",
            " [    2    10   560     8    95     4     3     0     0     0]\n",
            " [    2     8   128    29   867    11   421     4     3     0]\n",
            " [    2    10    44    16   353  9736    46   501     4     3]\n",
            " [    2    30    55   736    16  1020   658     6   313   308]\n",
            " [    2    13    55   950    14   171    12     3     0     0]\n",
            " [    2   227   519     9    50   275     4     3     0     0]\n",
            " [    2    41  2100     6    81   664     4     3     0     0]\n",
            " [    2    28   107   335    16   108     6   477   888     4]\n",
            " [    2     9   874   529  3450  5547     4     3     0     0]\n",
            " [    2    13   155    15    36  2020   671    31    16   102]\n",
            " [    2    13    15  1325   109   470    12     3     0     0]\n",
            " [    2   692    15  1364    14  3377  2631     4     3     0]\n",
            " [    2    10   391    16   459    31    32     4     3     0]\n",
            " [    2    74    35   210     5    32     4     3     0     0]\n",
            " [    2     7  1545  1997    15    11   844    35 12456     6]\n",
            " [    2    13    44   134  2171    31  1852 11025    12     3]\n",
            " [    2    60    16   108     6  1262     4     3     0     0]\n",
            " [    2    22  3161    14   265     4     3     0     0     0]\n",
            " [    2   166    22     5    17  1047    54     4     3     0]\n",
            " [    2   181   364     8    24   901     4     3     0     0]\n",
            " [    2    10    29   336     8   128     5  2381    11   179]\n",
            " [    2    10   988     8    32   593     7   631     4     3]\n",
            " [    2    13    30   168    68    37  2077    20   119    12]\n",
            " [    2 11008    52  3268  1726     4     3     0     0     0]\n",
            " [    2  3103     5    50   586     5    10 18697     8    32]\n",
            " [    2    34   237     5   737    14    20  2204    17    97]\n",
            " [    2    13    21     5     7     9   219     8    11   226]\n",
            " [    2  1494     4     3     0     0     0     0     0     0]\n",
            " [    2 21017    15    11   795    35  1618    46   187     4]\n",
            " [    2    39     9    34   415     4     3     0     0     0]\n",
            " [    2     7   649    35   273  1109     4     3     0     0]\n",
            " [    2    13     9   123   335    16   108     6    30    12]\n",
            " [    2  9391    72    20     4     3     0     0     0     0]\n",
            " [    2    50    22    35  6321     6    24   153     4     3]\n",
            " [    2    25   164    47    14    22  1083     3     0     0]\n",
            " [    2    24   617    17  1836     8    36   197     4     3]]\n",
            "\n",
            "[[    2   647     5  1329    11     0     0     0     0     0]\n",
            " [    2     6    23  1765   456    40   690   495     4     0]\n",
            " [    2     6    20    59     5   114     4     0     0     0]\n",
            " [    2     5   186   847   103   246    40   125   237     4]\n",
            " [    2     6    37     7   136    10    82  2283     4     0]\n",
            " [    2    22    12   354     4     0     0     0     0     0]\n",
            " [    2     6    23   227    24   919     4     0     0     0]\n",
            " [    2    24   206   212    21     7     5   453     4     0]\n",
            " [    2    10   249    48   822   377    13   202    61     4]\n",
            " [    2     9    12  1044     4     0     0     0     0     0]\n",
            " [    2    33    28  1357     7     5  3052    15  2046     4]\n",
            " [    2     9   208   813  1263    67     5  1710    16    13]\n",
            " [    2   161     5   396   615   362     6    66   124     4]\n",
            " [    2     6    23    73    74     7   634    93   419     4]\n",
            " [    2     9    12    14    30   139    19  3745    10  1559]\n",
            " [    2    50    59   340   201     4     0     0     0     0]\n",
            " [    2    30   145   481  2503    44    72 12372  4771     4]\n",
            " [    2    17    57    38    78   164     4     0     0     0]\n",
            " [    2     6    65   321    41    22     4     0     0     0]\n",
            " [    2     9    48    10   133    15   113    14     5   727]\n",
            " [    2   103   115  1115    17    10   806    15    53     7]\n",
            " [    2     9  1731     5  1868   180   141     4     0     0]\n",
            " [    2     6    37    32  1186     4     0     0     0     0]\n",
            " [    2  8159 10011   519   370    14     4     0     0     0]\n",
            " [    2     5  1854   202     7    72   530    42   108     4]\n",
            " [    2     6    49    45    36     8   184     6    23   626]\n",
            " [    2  6307    12     5  4025   318    15  2111     4     0]\n",
            " [    2     6    27    23    59   110     4     0     0     0]\n",
            " [    2     9   517     7   148     4     0     0     0     0]\n",
            " [    2    31    48    10  1301     4     0     0     0     0]\n",
            " [    2     9    48    10   597  6569    25   719     4     0]\n",
            " [    2     6    46    66    10   928    25     8  1775   387]\n",
            " [    2    46     6  2448    34     8    11     0     0     0]\n",
            " [    2    33    64   209   117     4     0     0     0     0]\n",
            " [    2    39   711     7    35    10   633     4     0     0]\n",
            " [    2    26   203     7   320   103  1028   509     4     0]\n",
            " [    2    27   480     7  6076     4     0     0     0     0]\n",
            " [    2   193    32   372   282   554   320    11     0     0]\n",
            " [    2    12    16   295   154    11     0     0     0     0]\n",
            " [    2   864    12   476    14  1623  2858     4     0     0]\n",
            " [    2     9   225    10  1021    25    31     4     0     0]\n",
            " [    2    85  7768    95    31     4     0     0     0     0]\n",
            " [    2  1566     4  1752    12  2766   326   638   870     4]\n",
            " [    2    20     8    23    10  1227     7   940  5909    11]\n",
            " [    2   211    10   177  1282     4     0     0     0     0]\n",
            " [    2    83   136    10  2891    15    16     4     0     0]\n",
            " [    2    26   271    29   643     7    35   281     4     0]\n",
            " [    2     6   109    66   124     7    24   773     4     0]\n",
            " [    2     9   169    31     7   302     5   230     4     0]\n",
            " [    2     9   248    31   209     5   657     4     0     0]\n",
            " [    2    79     8    41     7    45     7     5  1329    22]\n",
            " [    2   224    21    68    85   415     4     0     0     0]\n",
            " [    2    33   222    17    18   629    16     9  4062    31]\n",
            " [    2   115   562    14    22  1451    28  1538   266    15]\n",
            " [    2    80    64    13    78     7     5   257    11     0]\n",
            " [    2   117    45     4     0     0     0     0     0     0]\n",
            " [    2 11859    12     5   326   638  1181    14     5   332]\n",
            " [    2     6    64   198   197     4     0     0     0     0]\n",
            " [    2     5  4166   717  1882     4     0     0     0     0]\n",
            " [    2   368     8    41     7   320   103   617    11     0]\n",
            " [    2     6   263    67    99    13    12     4     0     0]\n",
            " [    2    17    18     5   326  3233   269    14    24   216]\n",
            " [    2    30   206    18   154     4     0     0     0     0]\n",
            " [    2    24   838    18  1755     7    32    91     4     0]]\n",
            "[[  647     5  1329    11     3     0     0     0     0     0]\n",
            " [    6    23  1765   456    40   690   495     4     3     0]\n",
            " [    6    20    59     5   114     4     3     0     0     0]\n",
            " [    5   186   847   103   246    40   125   237     4     3]\n",
            " [    6    37     7   136    10    82  2283     4     3     0]\n",
            " [   22    12   354     4     3     0     0     0     0     0]\n",
            " [    6    23   227    24   919     4     3     0     0     0]\n",
            " [   24   206   212    21     7     5   453     4     3     0]\n",
            " [   10   249    48   822   377    13   202    61     4     3]\n",
            " [    9    12  1044     4     3     0     0     0     0     0]\n",
            " [   33    28  1357     7     5  3052    15  2046     4     3]\n",
            " [    9   208   813  1263    67     5  1710    16    13    18]\n",
            " [  161     5   396   615   362     6    66   124     4     3]\n",
            " [    6    23    73    74     7   634    93   419     4     3]\n",
            " [    9    12    14    30   139    19  3745    10  1559     4]\n",
            " [   50    59   340   201     4     3     0     0     0     0]\n",
            " [   30   145   481  2503    44    72 12372  4771     4     3]\n",
            " [   17    57    38    78   164     4     3     0     0     0]\n",
            " [    6    65   321    41    22     4     3     0     0     0]\n",
            " [    9    48    10   133    15   113    14     5   727     4]\n",
            " [  103   115  1115    17    10   806    15    53     7   318]\n",
            " [    9  1731     5  1868   180   141     4     3     0     0]\n",
            " [    6    37    32  1186     4     3     0     0     0     0]\n",
            " [ 8159 10011   519   370    14     4     3     0     0     0]\n",
            " [    5  1854   202     7    72   530    42   108     4     3]\n",
            " [    6    49    45    36     8   184     6    23   626    24]\n",
            " [ 6307    12     5  4025   318    15  2111     4     3     0]\n",
            " [    6    27    23    59   110     4     3     0     0     0]\n",
            " [    9   517     7   148     4     3     0     0     0     0]\n",
            " [   31    48    10  1301     4     3     0     0     0     0]\n",
            " [    9    48    10   597  6569    25   719     4     3     0]\n",
            " [    6    46    66    10   928    25     8  1775   387   392]\n",
            " [   46     6  2448    34     8    11     3     0     0     0]\n",
            " [   33    64   209   117     4     3     0     0     0     0]\n",
            " [   39   711     7    35    10   633     4     3     0     0]\n",
            " [   26   203     7   320   103  1028   509     4     3     0]\n",
            " [   27   480     7  6076     4     3     0     0     0     0]\n",
            " [  193    32   372   282   554   320    11     3     0     0]\n",
            " [   12    16   295   154    11     3     0     0     0     0]\n",
            " [  864    12   476    14  1623  2858     4     3     0     0]\n",
            " [    9   225    10  1021    25    31     4     3     0     0]\n",
            " [   85  7768    95    31     4     3     0     0     0     0]\n",
            " [ 1566     4  1752    12  2766   326   638   870     4     3]\n",
            " [   20     8    23    10  1227     7   940  5909    11     3]\n",
            " [  211    10   177  1282     4     3     0     0     0     0]\n",
            " [   83   136    10  2891    15    16     4     3     0     0]\n",
            " [   26   271    29   643     7    35   281     4     3     0]\n",
            " [    6   109    66   124     7    24   773     4     3     0]\n",
            " [    9   169    31     7   302     5   230     4     3     0]\n",
            " [    9   248    31   209     5   657     4     3     0     0]\n",
            " [   79     8    41     7    45     7     5  1329    22   467]\n",
            " [  224    21    68    85   415     4     3     0     0     0]\n",
            " [   33   222    17    18   629    16     9  4062    31     4]\n",
            " [  115   562    14    22  1451    28  1538   266    15     5]\n",
            " [   80    64    13    78     7     5   257    11     3     0]\n",
            " [  117    45     4     3     0     0     0     0     0     0]\n",
            " [11859    12     5   326   638  1181    14     5   332     4]\n",
            " [    6    64   198   197     4     3     0     0     0     0]\n",
            " [    5  4166   717  1882     4     3     0     0     0     0]\n",
            " [  368     8    41     7   320   103   617    11     3     0]\n",
            " [    6   263    67    99    13    12     4     3     0     0]\n",
            " [   17    18     5   326  3233   269    14    24   216     4]\n",
            " [   30   206    18   154     4     3     0     0     0     0]\n",
            " [   24   838    18  1755     7    32    91     4     3     0]]\n"
          ]
        }
      ],
      "source": [
        "for (ex_context_token, ex_target_in), ex_target_out in train_dataset.take(1):\n",
        "    print(ex_context_token[0:, :10].numpy())\n",
        "    print()\n",
        "    print(ex_target_in[0:, :10].numpy())\n",
        "    print(ex_target_out[0:, :10].numpy())"
      ]
    },
    {
      "cell_type": "markdown",
      "metadata": {
        "id": "ec0raCNfX_ii"
      },
      "source": [
        "### Entrenamos el Transformer"
      ]
    },
    {
      "cell_type": "code",
      "execution_count": 650,
      "metadata": {
        "colab": {
          "base_uri": "https://localhost:8080/"
        },
        "id": "x1vGM7QYYRqS",
        "outputId": "ffa37797-34dd-4db3-bca0-b0355924611d"
      },
      "outputs": [
        {
          "output_type": "stream",
          "name": "stdout",
          "text": [
            "vocab_size_spanish 22661\n",
            "vocab_size_english 12393\n"
          ]
        }
      ],
      "source": [
        "embedding_dim = 100\n",
        "vocab_size_spanish = context_text_processor.vocabulary_size()\n",
        "vocab_size_english = target_text_processor.vocabulary_size()\n",
        "\n",
        "print(\"vocab_size_spanish\", vocab_size_spanish)\n",
        "print(\"vocab_size_english\", vocab_size_english)\n",
        "\n",
        "num_layers = 4\n",
        "dff = 512 # dimension of the fully connected layer\n",
        "num_heads = 8\n",
        "dropout_rate = 0.1"
      ]
    },
    {
      "cell_type": "code",
      "execution_count": 651,
      "metadata": {
        "id": "I_NETE54X-cL"
      },
      "outputs": [],
      "source": [
        "transformer = Transformer(\n",
        "    num_layers=num_layers,\n",
        "    d_model=embedding_dim,\n",
        "    num_heads=num_heads,\n",
        "    dff=dff,\n",
        "    input_vocab_size=vocab_size_spanish,\n",
        "    target_vocab_size=vocab_size_english,\n",
        "    dropout_rate=dropout_rate\n",
        ")"
      ]
    },
    {
      "cell_type": "code",
      "execution_count": 652,
      "metadata": {
        "colab": {
          "base_uri": "https://localhost:8080/"
        },
        "id": "Cudirhx7aYPa",
        "outputId": "3b45e844-1935-4260-b746-9df4d026f125"
      },
      "outputs": [
        {
          "output_type": "execute_result",
          "data": {
            "text/plain": [
              "TensorShape([64, 21, 12393])"
            ]
          },
          "metadata": {},
          "execution_count": 652
        }
      ],
      "source": [
        "response = transformer((context_text_processor(example_context_strings).to_tensor(), target_text_processor(example_target_strings).to_tensor()))\n",
        "response.shape"
      ]
    },
    {
      "cell_type": "code",
      "execution_count": 653,
      "metadata": {
        "colab": {
          "base_uri": "https://localhost:8080/"
        },
        "id": "gCfFDUwwvVOE",
        "outputId": "eb22a929-cb20-4485-d302-fc5c8b33ca3f"
      },
      "outputs": [
        {
          "output_type": "stream",
          "name": "stdout",
          "text": [
            "Model: \"transformer_5\"\n",
            "_________________________________________________________________\n",
            " Layer (type)                Output Shape              Param #   \n",
            "=================================================================\n",
            " encoder_14 (Encoder)        multiple                  3969748   \n",
            "                                                                 \n",
            " decoder_8 (Decoder)         multiple                  4233748   \n",
            "                                                                 \n",
            " dense_179 (Dense)           multiple                  1251693   \n",
            "                                                                 \n",
            "=================================================================\n",
            "Total params: 9455189 (36.07 MB)\n",
            "Trainable params: 9455189 (36.07 MB)\n",
            "Non-trainable params: 0 (0.00 Byte)\n",
            "_________________________________________________________________\n"
          ]
        }
      ],
      "source": [
        "transformer.summary()"
      ]
    },
    {
      "cell_type": "markdown",
      "metadata": {
        "id": "9xSU8Kcq7Ydt"
      },
      "source": [
        "## Entrenamos el Transformer"
      ]
    },
    {
      "cell_type": "code",
      "execution_count": 654,
      "metadata": {
        "id": "h3glfwAv7aM2"
      },
      "outputs": [],
      "source": [
        "def masked_loss(y_true, y_pred):\n",
        "    loss_fn = tf.keras.losses.SparseCategoricalCrossentropy(\n",
        "        from_logits=True, reduction='none'\n",
        "    )\n",
        "    loss = loss_fn(y_true, y_pred)\n",
        "    mask = tf.cast(y_true != 0, loss.dtype)\n",
        "    loss *= mask\n",
        "    return tf.reduce_sum(loss)/tf.reduce_sum(mask)"
      ]
    },
    {
      "cell_type": "code",
      "execution_count": 655,
      "metadata": {
        "id": "gRM0fSSo75QO"
      },
      "outputs": [],
      "source": [
        "def masked_accuracy(y_true, y_pred):\n",
        "    y_pred = tf.argmax(y_pred, axis=-1)\n",
        "    y_pred = tf.cast(y_pred, y_true.dtype)\n",
        "    match = tf.cast(y_true == y_pred, tf.float32)\n",
        "    mask = tf.cast(y_true != 0, tf.float32)\n",
        "    return tf.reduce_sum(match)/tf.reduce_sum(mask)\n"
      ]
    },
    {
      "cell_type": "code",
      "execution_count": 656,
      "metadata": {
        "id": "-AkZyU2k3Jqk"
      },
      "outputs": [],
      "source": [
        "transformer.compile(optimizer='adam', loss=masked_loss, metrics=[masked_accuracy, masked_loss])"
      ]
    },
    {
      "cell_type": "code",
      "execution_count": 657,
      "metadata": {
        "colab": {
          "base_uri": "https://localhost:8080/"
        },
        "id": "ajYjOLkv889D",
        "outputId": "7046a36a-46c5-48b5-9823-04c8b938db97"
      },
      "outputs": [
        {
          "output_type": "stream",
          "name": "stdout",
          "text": [
            "Epoch 1/10\n",
            "100/100 [==============================] - 327s 3s/step - loss: 6.0872 - masked_accuracy: 0.2008 - masked_loss: 6.0860 - val_loss: 4.9299 - val_masked_accuracy: 0.2502 - val_masked_loss: 4.9310\n",
            "Epoch 2/10\n",
            "100/100 [==============================] - 279s 3s/step - loss: 4.6343 - masked_accuracy: 0.2838 - masked_loss: 4.6345 - val_loss: 4.3862 - val_masked_accuracy: 0.2999 - val_masked_loss: 4.3873\n",
            "Epoch 3/10\n",
            "100/100 [==============================] - 298s 3s/step - loss: 4.3497 - masked_accuracy: 0.3085 - masked_loss: 4.3518 - val_loss: 4.2373 - val_masked_accuracy: 0.3222 - val_masked_loss: 4.2393\n",
            "Epoch 4/10\n",
            "100/100 [==============================] - 268s 3s/step - loss: 4.1312 - masked_accuracy: 0.3255 - masked_loss: 4.1327 - val_loss: 4.0396 - val_masked_accuracy: 0.3270 - val_masked_loss: 4.0400\n",
            "Epoch 5/10\n",
            "100/100 [==============================] - 283s 3s/step - loss: 4.0563 - masked_accuracy: 0.3310 - masked_loss: 4.0585 - val_loss: 3.9626 - val_masked_accuracy: 0.3375 - val_masked_loss: 3.9644\n",
            "Epoch 6/10\n",
            "100/100 [==============================] - 292s 3s/step - loss: 3.9629 - masked_accuracy: 0.3423 - masked_loss: 3.9641 - val_loss: 3.8738 - val_masked_accuracy: 0.3499 - val_masked_loss: 3.8759\n",
            "Epoch 7/10\n",
            "100/100 [==============================] - 282s 3s/step - loss: 3.8969 - masked_accuracy: 0.3463 - masked_loss: 3.8989 - val_loss: 3.8091 - val_masked_accuracy: 0.3572 - val_masked_loss: 3.8109\n",
            "Epoch 8/10\n",
            "100/100 [==============================] - 273s 3s/step - loss: 3.8653 - masked_accuracy: 0.3484 - masked_loss: 3.8667 - val_loss: 3.8256 - val_masked_accuracy: 0.3566 - val_masked_loss: 3.8262\n",
            "Epoch 9/10\n",
            "100/100 [==============================] - 270s 3s/step - loss: 3.7851 - masked_accuracy: 0.3545 - masked_loss: 3.7876 - val_loss: 3.7050 - val_masked_accuracy: 0.3643 - val_masked_loss: 3.7051\n",
            "Epoch 10/10\n",
            "100/100 [==============================] - 301s 3s/step - loss: 3.7390 - masked_accuracy: 0.3568 - masked_loss: 3.7409 - val_loss: 3.6985 - val_masked_accuracy: 0.3607 - val_masked_loss: 3.6995\n"
          ]
        }
      ],
      "source": [
        "history = transformer.fit(\n",
        "    train_dataset,\n",
        "    epochs=10,\n",
        "    steps_per_epoch = 100,\n",
        "    validation_data=validation_dataset,\n",
        "    validation_steps=20,\n",
        "    callbacks=[\n",
        "        tf.keras.callbacks.EarlyStopping(patience=3)\n",
        "    ])"
      ]
    },
    {
      "cell_type": "code",
      "source": [
        "plt.plot(history.history['loss'], label='loss')\n",
        "plt.plot(history.history['val_loss'], label='val_loss')\n",
        "plt.ylim([0, max(plt.ylim())])\n",
        "plt.xlabel('Epoch #')\n",
        "plt.ylabel('CE/token')\n",
        "plt.legend()"
      ],
      "metadata": {
        "colab": {
          "base_uri": "https://localhost:8080/",
          "height": 466
        },
        "id": "yaHrffFoHnND",
        "outputId": "4eec0b16-3ca8-4aa9-9dab-21e1c7bb641e"
      },
      "execution_count": 658,
      "outputs": [
        {
          "output_type": "execute_result",
          "data": {
            "text/plain": [
              "<matplotlib.legend.Legend at 0x7d18eae57e50>"
            ]
          },
          "metadata": {},
          "execution_count": 658
        },
        {
          "output_type": "display_data",
          "data": {
            "text/plain": [
              "<Figure size 640x480 with 1 Axes>"
            ],
            "image/png": "[encoded data removed]"
          },
          "metadata": {}
        }
      ]
    },
    {
      "cell_type": "code",
      "source": [
        "plt.plot(history.history['masked_accuracy'], label='accuracy')\n",
        "plt.plot(history.history['val_masked_accuracy'], label='val_accuracy')\n",
        "plt.ylim([0, max(plt.ylim())])\n",
        "plt.xlabel('Epoch #')\n",
        "plt.ylabel('CE/token')\n",
        "plt.legend()"
      ],
      "metadata": {
        "colab": {
          "base_uri": "https://localhost:8080/",
          "height": 466
        },
        "id": "XatkMQsQIjzF",
        "outputId": "bc9bfb73-af65-4ab1-c4ad-5b2dc352bd7c"
      },
      "execution_count": 659,
      "outputs": [
        {
          "output_type": "execute_result",
          "data": {
            "text/plain": [
              "<matplotlib.legend.Legend at 0x7d18f8d0c760>"
            ]
          },
          "metadata": {},
          "execution_count": 659
        },
        {
          "output_type": "display_data",
          "data": {
            "text/plain": [
              "<Figure size 640x480 with 1 Axes>"
            ],
            "image/png": "[encoded data removed]"
          },
          "metadata": {}
        }
      ]
    },
    {
      "cell_type": "markdown",
      "source": [
        "## El Translator"
      ],
      "metadata": {
        "id": "x5S-ae1zKqLS"
      }
    },
    {
      "cell_type": "code",
      "source": [
        "class Translator(tf.Module):\n",
        "  def __init__(self, tokenizers, transformer):\n",
        "    self.tokenizers = tokenizers\n",
        "    self.transformer = transformer\n",
        "\n",
        "  def __call__(self, sentence, max_length=100000):\n",
        "    # The input sentence is spanish, hence adding the `[START]` and `[END]` tokens.\n",
        "    assert isinstance(sentence, tf.Tensor)\n",
        "    if len(sentence.shape) == 0:\n",
        "      print('sentence', sentence)\n",
        "      sentence = sentence[tf.newaxis]\n",
        "      # sentence = tf_text.normalize_utf8(sentence, 'NFKD').numpy()\n",
        "      sentence = tf.convert_to_tensor(sentence)[tf.newaxis]\n",
        "\n",
        "    # example_text = tf.constant('Tendré que revisar mi agenda.')\n",
        "    # print(example_text.numpy())\n",
        "    # print(tf_text.normalize_utf8(example_text, 'NFKD').numpy())\n",
        "    # print(example_text.numpy().decode())\n",
        "    # print(process_with_tf_strings(example_text).numpy().decode())\n",
        "\n",
        "    # sentence = process_with_tf_strings(sentence)\n",
        "    # sentence = process_with_tf_strings(sentence)\n",
        "    # sentence = sentence.numpy()\n",
        "    # print('sentence', sentence)\n",
        "\n",
        "    # encoder_input = self.tokenizers[\"es\"](sentence).to_tensor()\n",
        "    sentence = self.tokenizers[\"es\"]([sentence]).to_tensor()\n",
        "    encoder_input = sentence\n",
        "    print('encoder_input', encoder_input)\n",
        "\n",
        "    # sentence=process_with_tf_strings(sentence)\n",
        "    # # sentence = tf.strings.split(sentence, sep=' ').to_tensor()\n",
        "    # print('sentence*', sentence)\n",
        "    # sentence = self.tokenizers[\"es\"]([sentence]).to_tensor()\n",
        "    # print('sentence***', sentence)\n",
        "    # encoder_input = sentence\n",
        "    # print('encoder_input', encoder_input)\n",
        "\n",
        "    # As the output language is English, initialize the output with the\n",
        "    # English `[START]` token.\n",
        "    start_end = self.tokenizers[\"en\"]([''])[0]\n",
        "    # print('start_end', type(start_end))\n",
        "    start = start_end[0][tf.newaxis]\n",
        "    # print('start', type(start))\n",
        "    end = start_end[1][tf.newaxis]\n",
        "\n",
        "    # `tf.TensorArray` is required here (instead of a Python list), so that the\n",
        "    # dynamic-loop can be traced by `tf.function`.\n",
        "    output_array = tf.TensorArray(dtype=tf.int64, size=0, dynamic_size=True)\n",
        "    output_array = output_array.write(0, start)\n",
        "\n",
        "    for i in tf.range(max_length):\n",
        "      output = tf.transpose(output_array.stack())\n",
        "      predictions = self.transformer([encoder_input, output], training=False)\n",
        "\n",
        "      # Select the last token from the `seq_len` dimension.\n",
        "      predictions = predictions[:, -1:, :]  # Shape `(batch_size, 1, vocab_size)`.\n",
        "\n",
        "      predicted_id = tf.argmax(predictions, axis=-1)\n",
        "      print(\"predicted_id\", predicted_id)\n",
        "\n",
        "      # Concatenate the `predicted_id` to the output which is given to the\n",
        "      # decoder as its input.\n",
        "      output_array = output_array.write(i+1, predicted_id[0])\n",
        "\n",
        "      if predicted_id == end:\n",
        "        break\n",
        "\n",
        "    output = tf.transpose(output_array.stack())\n",
        "    print(\"output\", output)\n",
        "\n",
        "    id_to_word = tf.keras.layers.StringLookup(\n",
        "        vocabulary=self.tokenizers[\"en\"].get_vocabulary(),\n",
        "        mask_token='',\n",
        "        oov_token='[UNK]',\n",
        "        invert=True\n",
        "    )\n",
        "\n",
        "    words = id_to_word(output)\n",
        "    print('words', words)\n",
        "\n",
        "    text = tf.strings.reduce_join(words, axis=-1, separator=' ')\n",
        "    text = tf.strings.regex_replace(text, '^ *\\[START\\] *', '')\n",
        "    text = tf.strings.regex_replace(text, ' *\\[END\\] *$', '')\n",
        "    print('text', text)\n",
        "\n",
        "    #text = self.tokenizers[\"en\"](output).to_tensor()[0]\n",
        "    # text = self.tokenizers[\"en\"].get_vocabulary()\n",
        "    #print(\"text\", text)\n",
        "\n",
        "    # The output shape is `(1, tokens)`.\n",
        "    # text = self.tokenizers[\"en\"](output)[0]  # Shape: `()`.\n",
        "    # print(\"text\", self.tokenizers[\"en\"](output))\n",
        "\n",
        "    # tokens = self.tokenizers[\"en\"].lookup(output)[0]\n",
        "\n",
        "    # `tf.function` prevents us from using the attention_weights that were\n",
        "    # calculated on the last iteration of the loop.\n",
        "    # So, recalculate them outside the loop.\n",
        "    self.transformer([encoder_input, output[:,:-1]], training=False)\n",
        "    attention_weights = self.transformer.decoder.last_attention_scores\n",
        "\n",
        "    return text[0], words, attention_weights"
      ],
      "metadata": {
        "id": "txxJAca7QyLn"
      },
      "execution_count": 660,
      "outputs": []
    },
    {
      "cell_type": "code",
      "source": [
        "translator = Translator(\n",
        "    {\"es\": context_text_processor, \"en\":target_text_processor}, transformer)"
      ],
      "metadata": {
        "id": "VxO0Fj4kKpG5"
      },
      "execution_count": 661,
      "outputs": []
    },
    {
      "cell_type": "code",
      "source": [
        "def print_translation(sentence, tokens, ground_truth):\n",
        "  print(f'{\"Input:\":15s}: {sentence}')\n",
        "#   print(f'{\"Prediction\":15s}: {tokens.numpy().decode(\"utf-8\")}')\n",
        "  print(f'{\"Prediction\":15s}: {tokens.numpy().decode(\"utf-8\")}')\n",
        "  print(f'{\"Ground truth\":15s}: {ground_truth}')"
      ],
      "metadata": {
        "id": "j4Kbyop_VyoQ"
      },
      "execution_count": 662,
      "outputs": []
    },
    {
      "cell_type": "code",
      "source": [
        "sentence = \"Tendré que revisar mi agenda.\"\n",
        "print(tf_text.normalize_utf8(sentence, 'NFKD').numpy())\n",
        "ground_truth = \"I'll need to check my schedule.\"\n",
        "\n",
        "translated_text, translated_tokens, attention_weights = translator(\n",
        "    tf.constant([sentence]))\n",
        "\n",
        "print_translation(sentence, translated_text, ground_truth)"
      ],
      "metadata": {
        "colab": {
          "base_uri": "https://localhost:8080/"
        },
        "id": "tZrpAKbtVp7e",
        "outputId": "67b7eb1f-be60-40ad-ab6e-fe338752eec1"
      },
      "execution_count": 663,
      "outputs": [
        {
          "output_type": "stream",
          "name": "stdout",
          "text": [
            "b'Tendre\\xcc\\x81 que revisar mi agenda.'\n",
            "encoder_input tf.Tensor([[   2 1515    5 4735   24 5722    4    3]], shape=(1, 8), dtype=int64)\n",
            "predicted_id tf.Tensor([[6]], shape=(1, 1), dtype=int64)\n",
            "predicted_id tf.Tensor([[23]], shape=(1, 1), dtype=int64)\n",
            "predicted_id tf.Tensor([[10]], shape=(1, 1), dtype=int64)\n",
            "predicted_id tf.Tensor([[82]], shape=(1, 1), dtype=int64)\n",
            "predicted_id tf.Tensor([[273]], shape=(1, 1), dtype=int64)\n",
            "predicted_id tf.Tensor([[4]], shape=(1, 1), dtype=int64)\n",
            "predicted_id tf.Tensor([[3]], shape=(1, 1), dtype=int64)\n",
            "output tf.Tensor([[  2   6  23  10  82 273   4   3]], shape=(1, 8), dtype=int64)\n",
            "words tf.Tensor([[b'[START]' b'i' b'have' b'a' b'good' b'idea' b'.' b'[END]']], shape=(1, 8), dtype=string)\n",
            "text tf.Tensor([b'i have a good idea .'], shape=(1,), dtype=string)\n",
            "Input:         : Tendré que revisar mi agenda.\n",
            "Prediction     : i have a good idea .\n",
            "Ground truth   : I'll need to check my schedule.\n"
          ]
        }
      ]
    },
    {
      "cell_type": "code",
      "source": [
        "attention_weights.shape"
      ],
      "metadata": {
        "colab": {
          "base_uri": "https://localhost:8080/"
        },
        "id": "tszromgNrrPG",
        "outputId": "bcee6f5e-26fc-4a8e-c779-cdc428915e0a"
      },
      "execution_count": 664,
      "outputs": [
        {
          "output_type": "execute_result",
          "data": {
            "text/plain": [
              "TensorShape([1, 8, 7, 8])"
            ]
          },
          "metadata": {},
          "execution_count": 664
        }
      ]
    },
    {
      "cell_type": "code",
      "source": [
        "in_tokens = tf.convert_to_tensor([sentence])\n",
        "in_tokens = process_with_tf_strings(in_tokens)\n",
        "# in_tokens = context_text_processor([sentence]).to_tensor()\n",
        "in_tokens = tf.strings.split(in_tokens, sep=' ').to_tensor()\n",
        "in_tokens[0]"
      ],
      "metadata": {
        "colab": {
          "base_uri": "https://localhost:8080/"
        },
        "id": "-YjOR8vQGr9c",
        "outputId": "ba883100-3dfc-4749-bbeb-0b4e7b15f80c"
      },
      "execution_count": 665,
      "outputs": [
        {
          "output_type": "execute_result",
          "data": {
            "text/plain": [
              "<tf.Tensor: shape=(8,), dtype=string, numpy=\n",
              "array([b'[START]', b'tendre', b'que', b'revisar', b'mi', b'agenda', b'.',\n",
              "       b'[END]'], dtype=object)>"
            ]
          },
          "metadata": {},
          "execution_count": 665
        }
      ]
    },
    {
      "cell_type": "code",
      "source": [
        "translated_tokens[0]"
      ],
      "metadata": {
        "colab": {
          "base_uri": "https://localhost:8080/"
        },
        "id": "cL86MveYGnXy",
        "outputId": "18818669-a17f-43cf-8742-fcf2feadab81"
      },
      "execution_count": 666,
      "outputs": [
        {
          "output_type": "execute_result",
          "data": {
            "text/plain": [
              "<tf.Tensor: shape=(8,), dtype=string, numpy=\n",
              "array([b'[START]', b'i', b'have', b'a', b'good', b'idea', b'.', b'[END]'],\n",
              "      dtype=object)>"
            ]
          },
          "metadata": {},
          "execution_count": 666
        }
      ]
    },
    {
      "cell_type": "code",
      "source": [
        "head = 0\n",
        "# Shape: `(batch=1, num_heads, seq_len_q, seq_len_k)`.\n",
        "attention_heads = tf.squeeze(attention_weights, 0)\n",
        "attention = attention_heads[head]\n",
        "attention.shape"
      ],
      "metadata": {
        "colab": {
          "base_uri": "https://localhost:8080/"
        },
        "id": "nwt24FIAhNcf",
        "outputId": "c6d5a022-5ab4-459b-997b-3af5421822d6"
      },
      "execution_count": 667,
      "outputs": [
        {
          "output_type": "execute_result",
          "data": {
            "text/plain": [
              "TensorShape([7, 8])"
            ]
          },
          "metadata": {},
          "execution_count": 667
        }
      ]
    },
    {
      "cell_type": "code",
      "source": [
        "def plot_attention_head(in_tokens, translated_tokens, attention):\n",
        "    # The model didn't generate `<START>` in the output. Skip it.\n",
        "    translated_tokens = translated_tokens[1:]\n",
        "    print(translated_tokens)\n",
        "\n",
        "    ax = plt.gca()\n",
        "    ax.matshow(attention)\n",
        "    ax.set_xticks(range(len(in_tokens)))\n",
        "    ax.set_yticks(range(len(translated_tokens)))\n",
        "\n",
        "    labels = [label.decode('utf-8') for label in in_tokens.numpy()]\n",
        "    ax.set_xticklabels(labels, rotation=90)\n",
        "\n",
        "    labels = [label.decode('utf-8') for label in translated_tokens.numpy()]\n",
        "    ax.set_yticklabels(labels)"
      ],
      "metadata": {
        "id": "tr7N080itX5j"
      },
      "execution_count": 668,
      "outputs": []
    },
    {
      "cell_type": "code",
      "source": [
        "plot_attention_head(in_tokens[0], translated_tokens[0], attention)"
      ],
      "metadata": {
        "colab": {
          "base_uri": "https://localhost:8080/",
          "height": 491
        },
        "id": "Xf2es3UztYEO",
        "outputId": "9b822683-0184-4273-e4a4-0b4501340a79"
      },
      "execution_count": 669,
      "outputs": [
        {
          "output_type": "stream",
          "name": "stdout",
          "text": [
            "tf.Tensor([b'i' b'have' b'a' b'good' b'idea' b'.' b'[END]'], shape=(7,), dtype=string)\n"
          ]
        },
        {
          "output_type": "display_data",
          "data": {
            "text/plain": [
              "<Figure size 640x480 with 1 Axes>"
            ],
            "image/png": "[encoded data removed]"
          },
          "metadata": {}
        }
      ]
    },
    {
      "cell_type": "code",
      "source": [
        "def plot_attention_weights(sentence, translated_tokens, attention_heads):\n",
        "    in_tokens = tf.convert_to_tensor([sentence])\n",
        "    in_tokens = process_with_tf_strings(in_tokens)\n",
        "    in_tokens = tf.strings.split(in_tokens, sep=' ').to_tensor()[0]\n",
        "    fig = plt.figure(figsize=(16, 8))\n",
        "\n",
        "    for h, head in enumerate(attention_heads):\n",
        "        ax = fig.add_subplot(2, 4, h+1)\n",
        "        plot_attention_head(in_tokens, translated_tokens, head)\n",
        "        ax.set_xlabel(f'Head {h+1}')\n",
        "\n",
        "    plt.tight_layout()\n",
        "    plt.show()"
      ],
      "metadata": {
        "id": "1IVg0ntSwkrS"
      },
      "execution_count": 670,
      "outputs": []
    },
    {
      "cell_type": "code",
      "source": [
        "plot_attention_weights(sentence,\n",
        "                       translated_tokens,\n",
        "                       attention_weights[0])"
      ],
      "metadata": {
        "colab": {
          "base_uri": "https://localhost:8080/",
          "height": 989
        },
        "id": "XHLiNVVHtbMQ",
        "outputId": "bfce8a97-01e5-4ade-8b2f-88adaa8a2a23"
      },
      "execution_count": 671,
      "outputs": [
        {
          "output_type": "stream",
          "name": "stdout",
          "text": [
            "tf.Tensor([], shape=(0, 8), dtype=string)\n",
            "tf.Tensor([], shape=(0, 8), dtype=string)\n",
            "tf.Tensor([], shape=(0, 8), dtype=string)\n",
            "tf.Tensor([], shape=(0, 8), dtype=string)\n",
            "tf.Tensor([], shape=(0, 8), dtype=string)\n",
            "tf.Tensor([], shape=(0, 8), dtype=string)\n",
            "tf.Tensor([], shape=(0, 8), dtype=string)\n",
            "tf.Tensor([], shape=(0, 8), dtype=string)\n"
          ]
        },
        {
          "output_type": "display_data",
          "data": {
            "text/plain": [
              "<Figure size 1600x800 with 8 Axes>"
            ],
            "image/png": "[encoded data removed]"
          },
          "metadata": {}
        }
      ]
    },
    {
      "cell_type": "code",
      "source": [
        "sentence = 'Pregúntale a Tom.'\n",
        "ground_truth = 'Ask Tom.'\n",
        "\n",
        "translated_text, translated_tokens, attention_weights = translator(\n",
        "    tf.constant([sentence]))\n",
        "\n",
        "print_translation(sentence, translated_text, ground_truth)\n",
        "\n",
        "plot_attention_weights(sentence, translated_tokens, attention_weights[0])"
      ],
      "metadata": {
        "colab": {
          "base_uri": "https://localhost:8080/",
          "height": 1000
        },
        "id": "MQbxJ5lLwogW",
        "outputId": "acebf745-5e51-4e39-a3d3-722bd8095782"
      },
      "execution_count": 672,
      "outputs": [
        {
          "output_type": "stream",
          "name": "stdout",
          "text": [
            "encoder_input tf.Tensor([[   2 1717    8   10    4    3]], shape=(1, 6), dtype=int64)\n",
            "predicted_id tf.Tensor([[6]], shape=(1, 1), dtype=int64)\n",
            "predicted_id tf.Tensor([[23]], shape=(1, 1), dtype=int64)\n",
            "predicted_id tf.Tensor([[10]], shape=(1, 1), dtype=int64)\n",
            "predicted_id tf.Tensor([[133]], shape=(1, 1), dtype=int64)\n",
            "predicted_id tf.Tensor([[15]], shape=(1, 1), dtype=int64)\n",
            "predicted_id tf.Tensor([[53]], shape=(1, 1), dtype=int64)\n",
            "predicted_id tf.Tensor([[4]], shape=(1, 1), dtype=int64)\n",
            "predicted_id tf.Tensor([[3]], shape=(1, 1), dtype=int64)\n",
            "output tf.Tensor([[  2   6  23  10 133  15  53   4   3]], shape=(1, 9), dtype=int64)\n",
            "words tf.Tensor([[b'[START]' b'i' b'have' b'a' b'lot' b'of' b'time' b'.' b'[END]']], shape=(1, 9), dtype=string)\n",
            "text tf.Tensor([b'i have a lot of time .'], shape=(1,), dtype=string)\n",
            "Input:         : Pregúntale a Tom.\n",
            "Prediction     : i have a lot of time .\n",
            "Ground truth   : Ask Tom.\n",
            "tf.Tensor([], shape=(0, 9), dtype=string)\n",
            "tf.Tensor([], shape=(0, 9), dtype=string)\n",
            "tf.Tensor([], shape=(0, 9), dtype=string)\n",
            "tf.Tensor([], shape=(0, 9), dtype=string)\n",
            "tf.Tensor([], shape=(0, 9), dtype=string)\n",
            "tf.Tensor([], shape=(0, 9), dtype=string)\n",
            "tf.Tensor([], shape=(0, 9), dtype=string)\n",
            "tf.Tensor([], shape=(0, 9), dtype=string)\n"
          ]
        },
        {
          "output_type": "display_data",
          "data": {
            "text/plain": [
              "<Figure size 1600x800 with 8 Axes>"
            ],
            "image/png": "[encoded data removed]"
          },
          "metadata": {}
        }
      ]
    },
    {
      "cell_type": "code",
      "source": [
        "sentence = '¿Podemos ir?'\n",
        "ground_truth = 'Can we go?'\n",
        "\n",
        "translated_text, translated_tokens, attention_weights = translator(\n",
        "    tf.constant([sentence]))\n",
        "\n",
        "print_translation(sentence, translated_text, ground_truth)\n",
        "\n",
        "plot_attention_weights(sentence, translated_tokens, attention_weights[0])"
      ],
      "metadata": {
        "colab": {
          "base_uri": "https://localhost:8080/",
          "height": 1000
        },
        "id": "k1Yb47o3xnba",
        "outputId": "a571e789-b456-4fbf-9415-3e762965b798"
      },
      "execution_count": 673,
      "outputs": [
        {
          "output_type": "stream",
          "name": "stdout",
          "text": [
            "encoder_input tf.Tensor([[  2  13 310  68  12   3]], shape=(1, 6), dtype=int64)\n",
            "predicted_id tf.Tensor([[6]], shape=(1, 1), dtype=int64)\n",
            "predicted_id tf.Tensor([[23]], shape=(1, 1), dtype=int64)\n",
            "predicted_id tf.Tensor([[10]], shape=(1, 1), dtype=int64)\n",
            "predicted_id tf.Tensor([[133]], shape=(1, 1), dtype=int64)\n",
            "predicted_id tf.Tensor([[15]], shape=(1, 1), dtype=int64)\n",
            "predicted_id tf.Tensor([[53]], shape=(1, 1), dtype=int64)\n",
            "predicted_id tf.Tensor([[4]], shape=(1, 1), dtype=int64)\n",
            "predicted_id tf.Tensor([[3]], shape=(1, 1), dtype=int64)\n",
            "output tf.Tensor([[  2   6  23  10 133  15  53   4   3]], shape=(1, 9), dtype=int64)\n",
            "words tf.Tensor([[b'[START]' b'i' b'have' b'a' b'lot' b'of' b'time' b'.' b'[END]']], shape=(1, 9), dtype=string)\n",
            "text tf.Tensor([b'i have a lot of time .'], shape=(1,), dtype=string)\n",
            "Input:         : ¿Podemos ir?\n",
            "Prediction     : i have a lot of time .\n",
            "Ground truth   : Can we go?\n",
            "tf.Tensor([], shape=(0, 9), dtype=string)\n",
            "tf.Tensor([], shape=(0, 9), dtype=string)\n",
            "tf.Tensor([], shape=(0, 9), dtype=string)\n",
            "tf.Tensor([], shape=(0, 9), dtype=string)\n",
            "tf.Tensor([], shape=(0, 9), dtype=string)\n",
            "tf.Tensor([], shape=(0, 9), dtype=string)\n",
            "tf.Tensor([], shape=(0, 9), dtype=string)\n",
            "tf.Tensor([], shape=(0, 9), dtype=string)\n"
          ]
        },
        {
          "output_type": "display_data",
          "data": {
            "text/plain": [
              "<Figure size 1600x800 with 8 Axes>"
            ],
            "image/png": "[encoded data removed]"
          },
          "metadata": {}
        }
      ]
    },
    {
      "cell_type": "code",
      "source": [],
      "metadata": {
        "id": "U3P4f3JOxneb"
      },
      "execution_count": 673,
      "outputs": []
    },
    {
      "cell_type": "code",
      "source": [],
      "metadata": {
        "id": "caJkDYdbxnhR"
      },
      "execution_count": 673,
      "outputs": []
    },
    {
      "cell_type": "code",
      "source": [],
      "metadata": {
        "id": "LWdDJFijxnkT"
      },
      "execution_count": 673,
      "outputs": []
    },
    {
      "cell_type": "code",
      "source": [],
      "metadata": {
        "id": "iIfITk0hxnna"
      },
      "execution_count": 673,
      "outputs": []
    },
    {
      "cell_type": "code",
      "source": [],
      "metadata": {
        "id": "e41uab9bxnqi"
      },
      "execution_count": 673,
      "outputs": []
    },
    {
      "cell_type": "code",
      "source": [],
      "metadata": {
        "id": "BvB5ZFp0xntd"
      },
      "execution_count": 673,
      "outputs": []
    },
    {
      "cell_type": "code",
      "source": [],
      "metadata": {
        "id": "fjqp9GERxnwR"
      },
      "execution_count": 673,
      "outputs": []
    },
    {
      "cell_type": "code",
      "source": [
        "def plot_attention(model, text, **kwargs):\n",
        "    translated_text, translated_tokens, attention_weights = translator(tf.constant([sentence]))\n",
        "\n",
        "    attention = attention_weights[-1][0]\n",
        "\n",
        "    context = process_with_tf_strings(text)\n",
        "    context = context.numpy().decode().split()\n",
        "    # context = tf.strings.split(context, sep=' ')\n",
        "\n",
        "    output = process_with_tf_strings(translated_text.numpy().decode(\"utf-8\"))\n",
        "    output = output.numpy().decode().split()[1:]\n",
        "    # output = tf.strings.split(output, sep=' ')[1:]\n",
        "\n",
        "    # print(attention)\n",
        "    # print('context', context)\n",
        "    # print('output', output)\n",
        "    fig = plt.figure(figsize=(10, 10))\n",
        "    ax = fig.add_subplot(1, 1, 1)\n",
        "    ax.matshow(attention, cmap='viridis', vmin=0.0)\n",
        "    fontdict = {'fontsize': 14}\n",
        "    ax.set_xticklabels([''] + context, fontdict=fontdict, rotation=90)\n",
        "    ax.set_yticklabels([''] + output, fontdict=fontdict)\n",
        "    ax.xaxis.set_major_locator(ticker.MultipleLocator(1))\n",
        "    ax.yaxis.set_major_locator(ticker.MultipleLocator(1))\n",
        "    ax.set_xlabel('Input text')\n",
        "    ax.set_ylabel('Output text')\n"
      ],
      "metadata": {
        "id": "RcanfE_oPg7N"
      },
      "execution_count": 674,
      "outputs": []
    },
    {
      "cell_type": "markdown",
      "source": [
        "."
      ],
      "metadata": {
        "id": "bZnHpgU_gT4p"
      }
    },
    {
      "cell_type": "code",
      "source": [
        "plot_attention(translator, \"Tendré que revisar mi agenda\")"
      ],
      "metadata": {
        "colab": {
          "base_uri": "https://localhost:8080/",
          "height": 1000
        },
        "id": "MXwMvIatQVww",
        "outputId": "7c826308-baff-4b8a-e778-aec0caa83a2f"
      },
      "execution_count": 675,
      "outputs": [
        {
          "output_type": "stream",
          "name": "stdout",
          "text": [
            "encoder_input tf.Tensor([[  2  13 310  68  12   3]], shape=(1, 6), dtype=int64)\n",
            "predicted_id tf.Tensor([[6]], shape=(1, 1), dtype=int64)\n",
            "predicted_id tf.Tensor([[23]], shape=(1, 1), dtype=int64)\n",
            "predicted_id tf.Tensor([[10]], shape=(1, 1), dtype=int64)\n",
            "predicted_id tf.Tensor([[133]], shape=(1, 1), dtype=int64)\n",
            "predicted_id tf.Tensor([[15]], shape=(1, 1), dtype=int64)\n",
            "predicted_id tf.Tensor([[53]], shape=(1, 1), dtype=int64)\n",
            "predicted_id tf.Tensor([[4]], shape=(1, 1), dtype=int64)\n",
            "predicted_id tf.Tensor([[3]], shape=(1, 1), dtype=int64)\n",
            "output tf.Tensor([[  2   6  23  10 133  15  53   4   3]], shape=(1, 9), dtype=int64)\n",
            "words tf.Tensor([[b'[START]' b'i' b'have' b'a' b'lot' b'of' b'time' b'.' b'[END]']], shape=(1, 9), dtype=string)\n",
            "text tf.Tensor([b'i have a lot of time .'], shape=(1,), dtype=string)\n"
          ]
        },
        {
          "output_type": "display_data",
          "data": {
            "text/plain": [
              "<Figure size 1000x1000 with 1 Axes>"
            ],
            "image/png": "[encoded data removed]"
          },
          "metadata": {}
        }
      ]
    },
    {
      "cell_type": "code",
      "source": [
        "plot_attention(translator, \"¡Lo estás haciendo mal!\")"
      ],
      "metadata": {
        "colab": {
          "base_uri": "https://localhost:8080/",
          "height": 1000
        },
        "id": "KbfTl3fShnYW",
        "outputId": "c978a751-a563-40c1-d727-facf1b1d9a90"
      },
      "execution_count": 676,
      "outputs": [
        {
          "output_type": "stream",
          "name": "stdout",
          "text": [
            "encoder_input tf.Tensor([[  2  13 310  68  12   3]], shape=(1, 6), dtype=int64)\n",
            "predicted_id tf.Tensor([[6]], shape=(1, 1), dtype=int64)\n",
            "predicted_id tf.Tensor([[23]], shape=(1, 1), dtype=int64)\n",
            "predicted_id tf.Tensor([[10]], shape=(1, 1), dtype=int64)\n",
            "predicted_id tf.Tensor([[133]], shape=(1, 1), dtype=int64)\n",
            "predicted_id tf.Tensor([[15]], shape=(1, 1), dtype=int64)\n",
            "predicted_id tf.Tensor([[53]], shape=(1, 1), dtype=int64)\n",
            "predicted_id tf.Tensor([[4]], shape=(1, 1), dtype=int64)\n",
            "predicted_id tf.Tensor([[3]], shape=(1, 1), dtype=int64)\n",
            "output tf.Tensor([[  2   6  23  10 133  15  53   4   3]], shape=(1, 9), dtype=int64)\n",
            "words tf.Tensor([[b'[START]' b'i' b'have' b'a' b'lot' b'of' b'time' b'.' b'[END]']], shape=(1, 9), dtype=string)\n",
            "text tf.Tensor([b'i have a lot of time .'], shape=(1,), dtype=string)\n"
          ]
        },
        {
          "output_type": "display_data",
          "data": {
            "text/plain": [
              "<Figure size 1000x1000 with 1 Axes>"
            ],
            "image/png": "[encoded data removed]"
          },
          "metadata": {}
        }
      ]
    },
    {
      "cell_type": "code",
      "source": [
        "plot_attention(translator, \"Renuncié.\")"
      ],
      "metadata": {
        "colab": {
          "base_uri": "https://localhost:8080/",
          "height": 1000
        },
        "id": "NNpiWPZ2m3MT",
        "outputId": "0f15eea9-1058-4a6a-f13f-528f1fe7f925"
      },
      "execution_count": 677,
      "outputs": [
        {
          "output_type": "stream",
          "name": "stdout",
          "text": [
            "encoder_input tf.Tensor([[  2  13 310  68  12   3]], shape=(1, 6), dtype=int64)\n",
            "predicted_id tf.Tensor([[6]], shape=(1, 1), dtype=int64)\n",
            "predicted_id tf.Tensor([[23]], shape=(1, 1), dtype=int64)\n",
            "predicted_id tf.Tensor([[10]], shape=(1, 1), dtype=int64)\n",
            "predicted_id tf.Tensor([[133]], shape=(1, 1), dtype=int64)\n",
            "predicted_id tf.Tensor([[15]], shape=(1, 1), dtype=int64)\n",
            "predicted_id tf.Tensor([[53]], shape=(1, 1), dtype=int64)\n",
            "predicted_id tf.Tensor([[4]], shape=(1, 1), dtype=int64)\n",
            "predicted_id tf.Tensor([[3]], shape=(1, 1), dtype=int64)\n",
            "output tf.Tensor([[  2   6  23  10 133  15  53   4   3]], shape=(1, 9), dtype=int64)\n",
            "words tf.Tensor([[b'[START]' b'i' b'have' b'a' b'lot' b'of' b'time' b'.' b'[END]']], shape=(1, 9), dtype=string)\n",
            "text tf.Tensor([b'i have a lot of time .'], shape=(1,), dtype=string)\n"
          ]
        },
        {
          "output_type": "display_data",
          "data": {
            "text/plain": [
              "<Figure size 1000x1000 with 1 Axes>"
            ],
            "image/png": "[encoded data removed]"
          },
          "metadata": {}
        }
      ]
    },
    {
      "cell_type": "code",
      "source": [
        "plot_attention(translator, \"¿Entendiste?\")"
      ],
      "metadata": {
        "colab": {
          "base_uri": "https://localhost:8080/",
          "height": 1000
        },
        "id": "uLghW1dCqN7k",
        "outputId": "e832165a-2487-41b2-f327-2c0fd5c0f235"
      },
      "execution_count": 678,
      "outputs": [
        {
          "output_type": "stream",
          "name": "stdout",
          "text": [
            "encoder_input tf.Tensor([[  2  13 310  68  12   3]], shape=(1, 6), dtype=int64)\n",
            "predicted_id tf.Tensor([[6]], shape=(1, 1), dtype=int64)\n",
            "predicted_id tf.Tensor([[23]], shape=(1, 1), dtype=int64)\n",
            "predicted_id tf.Tensor([[10]], shape=(1, 1), dtype=int64)\n",
            "predicted_id tf.Tensor([[133]], shape=(1, 1), dtype=int64)\n",
            "predicted_id tf.Tensor([[15]], shape=(1, 1), dtype=int64)\n",
            "predicted_id tf.Tensor([[53]], shape=(1, 1), dtype=int64)\n",
            "predicted_id tf.Tensor([[4]], shape=(1, 1), dtype=int64)\n",
            "predicted_id tf.Tensor([[3]], shape=(1, 1), dtype=int64)\n",
            "output tf.Tensor([[  2   6  23  10 133  15  53   4   3]], shape=(1, 9), dtype=int64)\n",
            "words tf.Tensor([[b'[START]' b'i' b'have' b'a' b'lot' b'of' b'time' b'.' b'[END]']], shape=(1, 9), dtype=string)\n",
            "text tf.Tensor([b'i have a lot of time .'], shape=(1,), dtype=string)\n"
          ]
        },
        {
          "output_type": "display_data",
          "data": {
            "text/plain": [
              "<Figure size 1000x1000 with 1 Axes>"
            ],
            "image/png": "[encoded data removed]"
          },
          "metadata": {}
        }
      ]
    }
  ],
  "metadata": {
    "colab": {
      "provenance": [],
      "collapsed_sections": [
        "_cltkXXQ_3nb",
        "qpgB22Ylgoj1",
        "FNFqKxBNBA09",
        "ImJ2daaDKMfZ",
        "9xSU8Kcq7Ydt",
        "x5S-ae1zKqLS"
      ],
      "authorship_tag": "ABX9TyMP17KQK31H2tScPICR4Yva",
      "include_colab_link": true
    },
    "kernelspec": {
      "display_name": "Python 3",
      "name": "python3"
    },
    "language_info": {
      "name": "python"
    }
  },
  "nbformat": 4,
  "nbformat_minor": 0
}